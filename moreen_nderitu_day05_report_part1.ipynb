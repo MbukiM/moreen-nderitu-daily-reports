{
 "cells": [
  {
   "cell_type": "markdown",
   "id": "abe0acab-27b9-4634-b074-38b8da561f79",
   "metadata": {},
   "source": [
    "1. Compute the following expressions for a natural number n chosen by the user:\n",
    "\n",
    "\\begin{equation}\n",
    "\\sum_{i=0}^{n-1}(i+3)\n",
    "\\end{equation}\n",
    "\n",
    "\\begin{equation}\n",
    "\\prod_{i=0}^{n=1}(i+3)\n",
    "\\end{equation}"
   ]
  },
  {
   "cell_type": "code",
   "execution_count": 15,
   "id": "065f5bb1-118b-4043-9d79-bc28db06ac48",
   "metadata": {},
   "outputs": [
    {
     "name": "stdin",
     "output_type": "stream",
     "text": [
      "Enter a natural number n: 4\n"
     ]
    },
    {
     "name": "stdout",
     "output_type": "stream",
     "text": [
      "10\n"
     ]
    }
   ],
   "source": [
    "n = int(input(\"Enter a natural number n:\"))\n",
    "sum = 0\n",
    "for i in range(n):\n",
    "    if i % 2 != 0:\n",
    "        sum = sum + i + 3 \n",
    "print(sum)\n"
   ]
  },
  {
   "cell_type": "code",
   "execution_count": 27,
   "id": "c5a669a6-e8ef-451f-bb62-f6a4066dee6e",
   "metadata": {},
   "outputs": [
    {
     "name": "stdin",
     "output_type": "stream",
     "text": [
      "Enter a natural number n: 4\n"
     ]
    },
    {
     "name": "stdout",
     "output_type": "stream",
     "text": [
      "15\n"
     ]
    }
   ],
   "source": [
    "n = int(input(\"Enter a natural number n:\"))\n",
    "prod = 1\n",
    "for i in range(n):\n",
    "    if i % 2 == 0:\n",
    "        prod = prod * (i + 3) \n",
    "print(prod)\n"
   ]
  },
  {
   "cell_type": "code",
   "execution_count": 26,
   "id": "33d5f6ba-ce2d-4f1d-a294-f0056643e1d6",
   "metadata": {},
   "outputs": [
    {
     "name": "stdout",
     "output_type": "stream",
     "text": [
      "0\n",
      "1\n",
      "2\n",
      "3\n"
     ]
    }
   ],
   "source": [
    "for i in range(4):\n",
    "    print(i)"
   ]
  },
  {
   "cell_type": "markdown",
   "id": "cbb40139-f21c-42a9-9676-2ba7632bd0c4",
   "metadata": {},
   "source": [
    "2 .Write a program that reads the number of the day of the week (from 0 to 6). If it is a\n",
    "working day, then the program will write the name of the corresponding day. Otherwise,\n",
    "it will write the word \"Weekend\"."
   ]
  },
  {
   "cell_type": "code",
   "execution_count": 1,
   "id": "640b7775-dc2f-4adb-a983-dbb0491d86fa",
   "metadata": {},
   "outputs": [
    {
     "name": "stdin",
     "output_type": "stream",
     "text": [
      "Enter a number to represent a day:  1\n"
     ]
    },
    {
     "name": "stdout",
     "output_type": "stream",
     "text": [
      "Tuesday\n"
     ]
    }
   ],
   "source": [
    "day = int(input(\"Enter a number to represent a day: \"))\n",
    "\n",
    "if day == 0:\n",
    "    print(\"Monday\")\n",
    "elif day == 1:\n",
    "    print(\"Tuesday\")\n",
    "elif day == 2:\n",
    "    print(\"Wednesday\")\n",
    "elif day == 3:\n",
    "    print(\"Thursday\")\n",
    "elif day == 4:\n",
    "    print(\"Friday\")\n",
    "elif day == 6 and day == 0:\n",
    "    prnt(\"Weekend\")\n",
    "else:\n",
    "    print(\"invalid\")"
   ]
  },
  {
   "cell_type": "markdown",
   "id": "2b7d5689-484a-4926-9636-8bb59b6b0ed8",
   "metadata": {},
   "source": [
    "3. Make a program that, given a month number (from 0 to 11), indicates how many days it\r\n",
    "has (28, 30 or 31), ignoring the leap years."
   ]
  },
  {
   "cell_type": "code",
   "execution_count": 29,
   "id": "a7b3b3f7-c14d-4837-a5b1-f2fb0593a83b",
   "metadata": {},
   "outputs": [
    {
     "name": "stdin",
     "output_type": "stream",
     "text": [
      "Enter a number between 0 and 11: 1\n"
     ]
    },
    {
     "name": "stdout",
     "output_type": "stream",
     "text": [
      "This month has 28 days\n"
     ]
    }
   ],
   "source": [
    "month = int(input(\"Enter a number between 0 and 11:\"))\n",
    "\n",
    "if (month == 0 or month == 3 or month == 5 or month == 8 or month == 10):\n",
    "    print(\"These months has 30 days\")\n",
    "elif (month == 2 or month == 4 or month == 6 or month == 7 or month == 9 or month == 11):\n",
    "    print(\"These months has 31 days\")\n",
    "elif (month == 1):\n",
    "    print(\"This month has 28 days\")\n",
    "else:\n",
    "    print(\"invalid\")\n"
   ]
  },
  {
   "cell_type": "markdown",
   "id": "bfa30812-44bc-417e-bd57-1cad372815c1",
   "metadata": {},
   "source": [
    "4. Write two versions of python code that displays your name 3 times. One version with a\n",
    "\"for loop\" and another version with a \"while loop\"."
   ]
  },
  {
   "cell_type": "code",
   "execution_count": 45,
   "id": "e6fb5dd4-9a7e-4882-8339-51c70c85bbe4",
   "metadata": {},
   "outputs": [
    {
     "name": "stdout",
     "output_type": "stream",
     "text": [
      "Moreen\n",
      "Moreen\n",
      "Moreen\n"
     ]
    }
   ],
   "source": [
    "n = 'Moreen'\n",
    "for i in range(3):\n",
    "    print(n)"
   ]
  },
  {
   "cell_type": "code",
   "execution_count": 62,
   "id": "09f5d7dc-9ab3-4f5f-b337-f07fbc7fcec7",
   "metadata": {},
   "outputs": [
    {
     "name": "stdout",
     "output_type": "stream",
     "text": [
      "Moreen\n",
      "Moreen\n",
      "Moreen\n"
     ]
    }
   ],
   "source": [
    "n = 'Moreen'\n",
    "i = 0\n",
    "while (i < 3):\n",
    "      print(\"Moreen\")\n",
    "      i = i + 1\n",
    "     \n"
   ]
  },
  {
   "cell_type": "markdown",
   "id": "b729244c-3b7e-47ac-b8fa-f29939e3fa01",
   "metadata": {},
   "source": [
    "5. Given two numbers a0 and a1, the Fibonacci sequence they generate is constructed from\n",
    "the recursion formula $a_{n+1} = a_{n} + a_{n−1}$. Calculate the first 15 terms of a Fibonacci\n",
    "sequence, asking the user the initial values."
   ]
  },
  {
   "cell_type": "code",
   "execution_count": 68,
   "id": "bee8ff4c-b52a-4d32-bf8b-d9ff440b5aed",
   "metadata": {},
   "outputs": [
    {
     "name": "stdin",
     "output_type": "stream",
     "text": [
      "Enter a first number a_0: 1\n",
      "Enter a second number a_1: 1\n"
     ]
    },
    {
     "name": "stdout",
     "output_type": "stream",
     "text": [
      "2\n",
      "3\n",
      "5\n",
      "8\n",
      "13\n",
      "21\n",
      "34\n",
      "55\n",
      "89\n",
      "144\n",
      "233\n",
      "377\n",
      "610\n",
      "987\n",
      "1597\n",
      "2584\n"
     ]
    }
   ],
   "source": [
    "a_0 = int(input(\"Enter a first number a_0:\"))\n",
    "a_1 = int(input(\"Enter a second number a_1:\"))\n",
    "\n",
    "a_n = 0\n",
    "for i in range(16):\n",
    "    a_n = a_0 + a_1\n",
    "    print(a_n)\n",
    "    a_0 = a_1\n",
    "    a_1 = a_n"
   ]
  },
  {
   "cell_type": "markdown",
   "id": "6427ea14-b1f5-4d82-83d8-80c9cf557ab1",
   "metadata": {},
   "source": [
    "6. Compute the first 30 terms of the sequence defined by $2x_{n+2} − x_{n+1} − 6x_{n} = 0$ sequence,\n",
    "given any two initial values x0 and x1"
   ]
  },
  {
   "cell_type": "code",
   "execution_count": 73,
   "id": "1bbca19c-a779-405b-ab39-1a566e996a36",
   "metadata": {},
   "outputs": [],
   "source": [
    "x_0 = 1\n",
    "x_1 = 2\n",
    "\n",
    "x_2 = 0\n",
    "for i in range(31):\n",
    "    if 2*x_2 - x_1 - 6*x_0 == 0:\n",
    "        print(i)\n",
    "    \n",
    "    \n",
    "    "
   ]
  },
  {
   "cell_type": "markdown",
   "id": "1908c73c-a689-4791-abe0-b4fb4625cc11",
   "metadata": {},
   "source": [
    "7. a) Write python code to determine whether or not a year is a leap year. Be sure you\n",
    "know what a leap year is."
   ]
  },
  {
   "cell_type": "code",
   "execution_count": 100,
   "id": "31b9ea71-8ad1-4e5c-a222-d1a52b24a7dc",
   "metadata": {},
   "outputs": [
    {
     "name": "stdin",
     "output_type": "stream",
     "text": [
      "Enter any year: 1780\n"
     ]
    },
    {
     "name": "stdout",
     "output_type": "stream",
     "text": [
      "1780 is a leap year\n"
     ]
    }
   ],
   "source": [
    "leap = int(input(\"Enter any year:\"))\n",
    "\n",
    "#ly = []\n",
    "\n",
    "#for year in range(1000, 2001):\n",
    "if  (leap % 4 == 0 and leap % 100 != 0 ) or leap % 400 == 0 :\n",
    "        #ly.append(year)\n",
    "           print(\"{} is a leap year\".format(leap))\n",
    "else:\n",
    "           print(\"{} is not a leap year\".format(leap))\n",
    "    \n",
    "#print(ly)"
   ]
  },
  {
   "cell_type": "markdown",
   "id": "035e625b-72bc-4240-9c27-b8df64df13ec",
   "metadata": {},
   "source": [
    "b) Write the code using only logical operators, i.e. no conditional branching."
   ]
  },
  {
   "cell_type": "code",
   "execution_count": 101,
   "id": "e8e5b3c5-7dfd-4382-8870-e1b597824734",
   "metadata": {},
   "outputs": [
    {
     "name": "stdout",
     "output_type": "stream",
     "text": [
      "[1004, 1008, 1012, 1016, 1020, 1024, 1028, 1032, 1036, 1040, 1044, 1048, 1052, 1056, 1060, 1064, 1068, 1072, 1076, 1080, 1084, 1088, 1092, 1096, 1104, 1108, 1112, 1116, 1120, 1124, 1128, 1132, 1136, 1140, 1144, 1148, 1152, 1156, 1160, 1164, 1168, 1172, 1176, 1180, 1184, 1188, 1192, 1196, 1200, 1204, 1208, 1212, 1216, 1220, 1224, 1228, 1232, 1236, 1240, 1244, 1248, 1252, 1256, 1260, 1264, 1268, 1272, 1276, 1280, 1284, 1288, 1292, 1296, 1304, 1308, 1312, 1316, 1320, 1324, 1328, 1332, 1336, 1340, 1344, 1348, 1352, 1356, 1360, 1364, 1368, 1372, 1376, 1380, 1384, 1388, 1392, 1396, 1404, 1408, 1412, 1416, 1420, 1424, 1428, 1432, 1436, 1440, 1444, 1448, 1452, 1456, 1460, 1464, 1468, 1472, 1476, 1480, 1484, 1488, 1492, 1496, 1504, 1508, 1512, 1516, 1520, 1524, 1528, 1532, 1536, 1540, 1544, 1548, 1552, 1556, 1560, 1564, 1568, 1572, 1576, 1580, 1584, 1588, 1592, 1596, 1600, 1604, 1608, 1612, 1616, 1620, 1624, 1628, 1632, 1636, 1640, 1644, 1648, 1652, 1656, 1660, 1664, 1668, 1672, 1676, 1680, 1684, 1688, 1692, 1696, 1704, 1708, 1712, 1716, 1720, 1724, 1728, 1732, 1736, 1740, 1744, 1748, 1752, 1756, 1760, 1764, 1768, 1772, 1776, 1780, 1784, 1788, 1792, 1796, 1804, 1808, 1812, 1816, 1820, 1824, 1828, 1832, 1836, 1840, 1844, 1848, 1852, 1856, 1860, 1864, 1868, 1872, 1876, 1880, 1884, 1888, 1892, 1896, 1904, 1908, 1912, 1916, 1920, 1924, 1928, 1932, 1936, 1940, 1944, 1948, 1952, 1956, 1960, 1964, 1968, 1972, 1976, 1980, 1984, 1988, 1992, 1996, 2000]\n"
     ]
    }
   ],
   "source": [
    "leap_years = [year for year in range(1000, 2001) if (year % 4 == 0 and year % 100 != 0) or (year % 400 == 0)]\n",
    "\n",
    "print(leap_years)"
   ]
  },
  {
   "cell_type": "markdown",
   "id": "5e0454f6-a382-4d32-bcce-97dead54939f",
   "metadata": {},
   "source": [
    "a) Write python code that computes the sum of the square of the first n natural numbers.\n",
    "One version with a \"for loop\" and another version with a \"while loop\"."
   ]
  },
  {
   "cell_type": "code",
   "execution_count": 106,
   "id": "3e1e336a-4abc-4a39-8495-2c8a6ccd5a72",
   "metadata": {},
   "outputs": [
    {
     "name": "stdout",
     "output_type": "stream",
     "text": [
      "285\n"
     ]
    }
   ],
   "source": [
    "m =10\n",
    "sum_sqrt= 0\n",
    "for i in range(m):\n",
    "    square = i*i\n",
    "    sum_sqrt= sum_sqrt + square \n",
    "print(sum_sqrt)\n",
    "    \n"
   ]
  },
  {
   "cell_type": "markdown",
   "id": "b4f74115-b76c-4f0a-b8d1-e9e57bc5b421",
   "metadata": {},
   "source": [
    "b) Write python code that prints, for a natural number M, the smallest natural number\n",
    "n such that 12+22+· · ·+n2 ≥ M. One version with a \"for loop\" and another version\n",
    "with a \"while loop\"."
   ]
  },
  {
   "cell_type": "code",
   "execution_count": 1,
   "id": "63f0b013-f74f-4044-9592-fb852b6d733c",
   "metadata": {},
   "outputs": [],
   "source": [
    "sum_sq = 0 \n",
    "i =0\n",
    "while ( i > 11):\n",
    "    squr = i*i\n",
    "    sum_sq = sum_sq + squr \n",
    "    i = 1+1\n",
    "\n",
    "#print(sum_sq)\n",
    "     "
   ]
  },
  {
   "cell_type": "code",
   "execution_count": null,
   "id": "65f6a625-943b-4772-a0a2-6034ecf3f868",
   "metadata": {},
   "outputs": [],
   "source": []
  }
 ],
 "metadata": {
  "kernelspec": {
   "display_name": "Python 3 (ipykernel)",
   "language": "python",
   "name": "python3"
  },
  "language_info": {
   "codemirror_mode": {
    "name": "ipython",
    "version": 3
   },
   "file_extension": ".py",
   "mimetype": "text/x-python",
   "name": "python",
   "nbconvert_exporter": "python",
   "pygments_lexer": "ipython3",
   "version": "3.12.4"
  }
 },
 "nbformat": 4,
 "nbformat_minor": 5
}
