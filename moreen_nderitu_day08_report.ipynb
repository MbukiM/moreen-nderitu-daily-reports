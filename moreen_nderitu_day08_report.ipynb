{
 "cells": [
  {
   "cell_type": "markdown",
   "metadata": {
    "id": "sm-kMbirqqyt"
   },
   "source": [
    "# PyPro: challenge 1 \n",
    "\n",
    "### This challenge is due on Sunday 29th September 2024 at 8pm.\n",
    "\n",
    "`These exercises provide a wide range of challenges that test your understanding of Python's core concepts, such as control structures, data types, string manipulations, list comprehensions, and higher-order functions.`\n",
    "\n",
    "\n",
    "#### Basic Tasks\n",
    "\n",
    "1. Create a function `find_max()` that accepts two numeric inputs and returns the greater value. Avoid using the built-in `max()` function."
   ]
  },
  {
   "cell_type": "code",
   "execution_count": 5,
   "metadata": {},
   "outputs": [
    {
     "name": "stdin",
     "output_type": "stream",
     "text": [
      "Enter a number: 2\n",
      "Enter another number: 2\n"
     ]
    },
    {
     "name": "stdout",
     "output_type": "stream",
     "text": [
      "2 is equal to 2\n"
     ]
    }
   ],
   "source": [
    "def find_max():\n",
    "    \"\"\" \n",
    "    This function accepts two numeric input to give a greater value \n",
    "    Input: a and b \n",
    "    Output: give a greater value\n",
    "    \"\"\"\n",
    "    a = int(input(\"Enter a number:\"))\n",
    "    b = int(input(\"Enter another number:\"))\n",
    "    if a > b:\n",
    "        print(\"{0} is greater than {1}\".format(a,b))\n",
    "    elif b > a:\n",
    "        print(\"{0} is greater than {1}\".format(b,a))\n",
    "    else:\n",
    "        print(\"{0} is equal to {1}\".format(a,b))\n",
    "find_max()"
   ]
  },
  {
   "cell_type": "markdown",
   "metadata": {},
   "source": [
    "```python \n",
    "def find_max():\n",
    "    \"\"\" \n",
    "    This function accepts two numeric input to give a greater value \n",
    "    Input: a and b \n",
    "    Output: give a greater value\n",
    "    \"\"\"\n",
    "    a = int(input(\"Enter a number:\"))\n",
    "    b = int(input(\"Enter another number:\"))\n",
    "    if a > b:\n",
    "        print(\"{0} is greater than {1}\".format(a,b))\n",
    "    elif b > a:\n",
    "        print(\"{0} is greater than {1}\".format(b,a))\n",
    "    else:\n",
    "        print(\"{0} is equal to {1}\".format(a,b))\n",
    "find_max()\n",
    "``` python "
   ]
  },
  {
   "cell_type": "markdown",
   "metadata": {
    "id": "sm-kMbirqqyt"
   },
   "source": [
    "2. Develop a function `find_max_of_three()` to find the maximum among three given numbers."
   ]
  },
  {
   "cell_type": "code",
   "execution_count": 2,
   "metadata": {},
   "outputs": [
    {
     "name": "stdin",
     "output_type": "stream",
     "text": [
      "Enter the first number: 4\n",
      "Enter the second number: 6\n",
      "Enter the third number: 7\n"
     ]
    },
    {
     "name": "stdout",
     "output_type": "stream",
     "text": [
      "7 is the maximum value in 7,4,6\n"
     ]
    }
   ],
   "source": [
    "def find_max_of_three():\n",
    "    \"\"\"\n",
    "    This function take three numbers and check for the greater one aming the three numbers \n",
    "    Input: c,d,e\n",
    "    Output: greater number\n",
    "    \n",
    "    \"\"\"\n",
    "    c = int(input(\"Enter the first number:\"))\n",
    "    d = int(input(\"Enter the second number:\"))\n",
    "    e = int(input(\"Enter the third number:\"))\n",
    "\n",
    "    if c > d and c > e:\n",
    "        print(\"{0} is the maximum value in {0},{1},{2}\".format(c,d,e))\n",
    "    elif d > c and d > e:\n",
    "        print(\"{0} is the maximum value in {0},{1},{2}\".format(d,c,e))\n",
    "    elif e > c and e > d:\n",
    "        print(\"{0} is the maximum value in {0},{1},{2}\".format(e,c,d))\n",
    "    else:\n",
    "        print(\"All are equal\")\n",
    "    \n",
    "    \n",
    "find_max_of_three()"
   ]
  },
  {
   "cell_type": "markdown",
   "metadata": {},
   "source": [
    "``` python\n",
    "def find_max_of_three():\n",
    "    \"\"\"\n",
    "    This function take three numbers and check for the greater one aming the three numbers \n",
    "    Input: c,d,e\n",
    "    Output: greater number\n",
    "    \n",
    "    \"\"\"\n",
    "    c = int(input(\"Enter the first number:\"))\n",
    "    d = int(input(\"Enter the second number:\"))\n",
    "    e = int(input(\"Enter the third number:\"))\n",
    "\n",
    "    if c > d and c > e:\n",
    "        print(\"{0} is the maximum value in {0},{1},{2}\".format(c,d,e))\n",
    "    elif d > c and d > e:\n",
    "        print(\"{0} is the maximum value in {0},{1},{2}\".format(d,c,e))\n",
    "    elif e > c and e > d:\n",
    "        print(\"{0} is the maximum value in {0},{1},{2}\".format(e,c,d))\n",
    "    else:\n",
    "        print(\"All are equal\")\n",
    "    \n",
    "    \n",
    "find_max_of_three()\n",
    "``` python\n"
   ]
  },
  {
   "cell_type": "markdown",
   "metadata": {
    "id": "sm-kMbirqqyt"
   },
   "source": [
    "3. Write a function to manually calculate the length of a given list or string without using `len()`."
   ]
  },
  {
   "cell_type": "code",
   "execution_count": 6,
   "metadata": {},
   "outputs": [
    {
     "name": "stdin",
     "output_type": "stream",
     "text": [
      "Emter any string: Moreen \n"
     ]
    },
    {
     "name": "stdout",
     "output_type": "stream",
     "text": [
      "7\n"
     ]
    }
   ],
   "source": [
    "def string_len():\n",
    "    \"\"\"\n",
    "    This function calculate the length of a string \n",
    "    Input: string\n",
    "    Output: length of a string \n",
    "    \"\"\"\n",
    "    s = str(input(\"Emter any string:\"))\n",
    "    count_string = 0 \n",
    "    for i in s:\n",
    "        count_string = count_string + 1\n",
    "    print(count_string)\n",
    "    \n",
    "string_len()\n"
   ]
  },
  {
   "cell_type": "markdown",
   "metadata": {},
   "source": [
    "``` python \n",
    "def string_len():\n",
    "    \"\"\"\n",
    "    This function calculate the length of a string \n",
    "    Input: string\n",
    "    Output: length of a string \n",
    "    \"\"\"\n",
    "    s = str(input(\"Emter any string:\"))\n",
    "    count_string = 0 \n",
    "    for i in s:\n",
    "        count_string = count_string + 1\n",
    "    print(count_string)\n",
    "    \n",
    "string_len()\n",
    "``` python"
   ]
  },
  {
   "cell_type": "markdown",
   "metadata": {
    "id": "sm-kMbirqqyt"
   },
   "source": [
    "4. Implement a function that checks if a given character is a vowel (a, e, i, o, u)."
   ]
  },
  {
   "cell_type": "code",
   "execution_count": 12,
   "metadata": {},
   "outputs": [
    {
     "name": "stdin",
     "output_type": "stream",
     "text": [
      "Enter any character of your choice: q\n"
     ]
    },
    {
     "name": "stdout",
     "output_type": "stream",
     "text": [
      "q is a consonant\n"
     ]
    }
   ],
   "source": [
    "def is_vowel():\n",
    "    \"\"\" \n",
    "    This function check if a given character is a vowel\n",
    "    Input: character \n",
    "    Output: true or false\n",
    "    \"\"\"\n",
    "    char = str(input(\"Enter any character of your choice:\"))\n",
    "    vowel = char.isalpha()\n",
    "    if vowel == False:\n",
    "        print(\"{0} is a vowel\".format(char))\n",
    "    else:\n",
    "        print(\"{0} is a consonant\".format(char))\n",
    "    #print(vowel)\n",
    "\n",
    "is_vowel()"
   ]
  },
  {
   "cell_type": "code",
   "execution_count": 11,
   "metadata": {},
   "outputs": [
    {
     "data": {
      "text/plain": [
       "False"
      ]
     },
     "execution_count": 11,
     "metadata": {},
     "output_type": "execute_result"
    }
   ],
   "source": [
    "m = \"a \"\n",
    "m.isalpha()"
   ]
  },
  {
   "cell_type": "markdown",
   "metadata": {},
   "source": [
    "``` python\n",
    "def is_vowel():\n",
    "    \"\"\" \n",
    "    This function check if a given character is a vowel\n",
    "    Input: character \n",
    "    Output: true or false\n",
    "    \"\"\"\n",
    "    char = str(input(\"Enter any character of your choice:\"))\n",
    "    vowel = char.isalpha()\n",
    "    if vowel == False:\n",
    "        print(\"{0} is a vowel\".format(char))\n",
    "    else:\n",
    "        print(\"{0} is a consonant\".format(char))\n",
    "    #print(vowel)\n",
    "\n",
    "is_vowel()\n",
    "``` python"
   ]
  },
  {
   "cell_type": "markdown",
   "metadata": {
    "id": "sm-kMbirqqyt"
   },
   "source": [
    "5. Write a function `encode()` that converts a string into \"rövarspråket\" ([robber's language](https://en.wikipedia.org/wiki/R%C3%B6varspr%C3%A5ket)) by doubling consonants and placing \"o\" in between, e.g., \"hello\" -> \"hohelollolo\"."
   ]
  },
  {
   "cell_type": "code",
   "execution_count": 19,
   "metadata": {},
   "outputs": [
    {
     "name": "stdout",
     "output_type": "stream",
     "text": [
      "Help on built-in function split:\n",
      "\n",
      "split(sep=None, maxsplit=-1) method of builtins.str instance\n",
      "    Return a list of the substrings in the string, using sep as the separator string.\n",
      "\n",
      "      sep\n",
      "        The separator used to split the string.\n",
      "\n",
      "        When set to None (the default value), will split on any whitespace\n",
      "        character (including \\n \\r \\t \\f and spaces) and will discard\n",
      "        empty strings from the result.\n",
      "      maxsplit\n",
      "        Maximum number of splits.\n",
      "        -1 (the default value) means no limit.\n",
      "\n",
      "    Splitting starts at the front of the string and works to the end.\n",
      "\n",
      "    Note, str.split() is mainly useful for data that has been intentionally\n",
      "    delimited.  With natural text that includes punctuation, consider using\n",
      "    the regular expression module.\n",
      "\n"
     ]
    }
   ],
   "source": [
    "help(test.split)"
   ]
  },
  {
   "cell_type": "code",
   "execution_count": 22,
   "metadata": {},
   "outputs": [
    {
     "data": {
      "text/plain": [
       "['Mbuki', 'MbukiMbuki']"
      ]
     },
     "execution_count": 22,
     "metadata": {},
     "output_type": "execute_result"
    }
   ],
   "source": [
    "t = \"Mbuki,MbukiMbuki\"\n",
    "t.split(\",\")"
   ]
  },
  {
   "cell_type": "code",
   "execution_count": 24,
   "metadata": {},
   "outputs": [
    {
     "name": "stdin",
     "output_type": "stream",
     "text": [
      "Enter a string of your choice Moreen\n"
     ]
    },
    {
     "name": "stdout",
     "output_type": "stream",
     "text": [
      " MoMororeenon\n"
     ]
    }
   ],
   "source": [
    "def encode():\n",
    "    \"\"\"\n",
    "    This function convert a string to a robber's language\n",
    "    by doubling consonants and placing \"o\" in between\n",
    "    Input: string \n",
    "    Output: a string with doubling consonant but \"o\" in between\n",
    "    \"\"\"\n",
    "    string_1 = input(\"Enter a string of your choice\")\n",
    "    vowel_list = [\"a\", \"e\", \"i\", \"o\", \"u\"]\n",
    "    string_2 = \" \"\n",
    "    for i in string_1:\n",
    "        if i in vowel_list:\n",
    "            string_2 = string_2 + i\n",
    "        else:\n",
    "            string_2 = string_2 + i + \"o\" + i\n",
    "            # string_2.s\n",
    "    print(string_2)\n",
    "\n",
    "encode()"
   ]
  },
  {
   "cell_type": "markdown",
   "metadata": {},
   "source": [
    "``` python\n",
    "def encode():\n",
    "    \"\"\"\n",
    "    This function convert a string to a robber's language\n",
    "    by doubling consonants and placing \"o\" in between\n",
    "    Input: string \n",
    "    Output: a string with doubling consonant but \"o\" in between\n",
    "    \"\"\"\n",
    "    string_1 = input(\"Enter a string of your choice\")\n",
    "    vowel_list = [\"a\", \"e\", \"i\", \"o\", \"u\"]\n",
    "    string_2 = \" \"\n",
    "    for i in string_1:\n",
    "        if i in vowel_list:\n",
    "            string_2 = string_2 + i\n",
    "        else:\n",
    "            string_2 = string_2 + i + \"o\" + i\n",
    "            # string_2.s\n",
    "    print(string_2)\n",
    "\n",
    "encode()\n",
    "``` python "
   ]
  },
  {
   "cell_type": "markdown",
   "metadata": {
    "id": "sm-kMbirqqyt"
   },
   "source": [
    "6. Create `sum_elements()` and `product_elements()` functions to sum and multiply all elements in a list, respectively."
   ]
  },
  {
   "cell_type": "code",
   "execution_count": 1,
   "metadata": {},
   "outputs": [
    {
     "name": "stdout",
     "output_type": "stream",
     "text": [
      "The sum of [33, 45, 78, 90, 12, 43, 45, 13, 27, 89] is 475\n",
      "The product of [33, 45, 78, 90, 12, 43, 45, 13, 27, 89] is 7561760260626000\n"
     ]
    },
    {
     "data": {
      "text/plain": [
       "7561760260626000"
      ]
     },
     "execution_count": 1,
     "metadata": {},
     "output_type": "execute_result"
    }
   ],
   "source": [
    "def sum_elements():\n",
    "    \"\"\"\n",
    "    This function calculate sum of numbers\n",
    "    Input: List \n",
    "    Output: Sum\n",
    "    \"\"\"\n",
    "    n = [33,45,78,90,12,43,45,13,27,89]\n",
    "    sum = 0\n",
    "    for i in n:\n",
    "        sum = sum + i\n",
    "    print(\"The sum of {1} is {0}\".format(sum, n)) \n",
    "    return sum,   \n",
    "\n",
    "def product_elements():\n",
    "    \"\"\"\n",
    "    This function calculate the product of  the element in the list of numbers \n",
    "    Input: a list of numbers \n",
    "    Output: Product \n",
    "    \"\"\"\n",
    "    n = [33,45,78,90,12,43,45,13,27,89]\n",
    "    prod = 1\n",
    "    for i in n: \n",
    "        prod = prod * i\n",
    "    print(\"The product of {1} is {0}\".format(prod, n))\n",
    "    return prod\n",
    "       \n",
    "sum_elements()\n",
    "product_elements()"
   ]
  },
  {
   "cell_type": "markdown",
   "metadata": {
    "id": "sm-kMbirqqyt"
   },
   "source": [
    "7. Define a function `reverse_string()` to reverse the characters in a given string."
   ]
  },
  {
   "cell_type": "code",
   "execution_count": 3,
   "metadata": {},
   "outputs": [
    {
     "data": {
      "text/plain": [
       "'utiredN ikubM neeroM'"
      ]
     },
     "execution_count": 3,
     "metadata": {},
     "output_type": "execute_result"
    }
   ],
   "source": [
    "def reverse_string(string1):\n",
    "    \"\"\"\n",
    "    This function reverses a string \n",
    "    Input:\n",
    "    Output:\n",
    "    \"\"\"\n",
    "    reversed = string1[:: -1]\n",
    "    return reversed\n",
    "\n",
    "string1 = \"Moreen Mbuki Nderitu\"\n",
    "reverse_string(string1)"
   ]
  },
  {
   "cell_type": "markdown",
   "metadata": {
    "id": "sm-kMbirqqyt"
   },
   "source": [
    "8. Implement `check_palindrome()` to verify if a string reads the same forwards and backwards, i.e. is a [palindrome](https://en.wikipedia.org/wiki/Palindrome).\n",
    "\n",
    "9. Develop a function `check_membership()` to determine if a value exists within a list.\n",
    "\n",
    "10. Write `check_overlap()` to identify if two lists share any elements.\n",
    "\n",
    "11. Implement `repeat_char()` that generates a string with a specified character repeated `n` times.\n",
    "\n",
    "12. Create a function `print_histogram()` that takes a list of integers and prints a corresponding histogram.\n",
    "\n",
    "13. Write `find_max_in_list()` to identify the largest number in a list of arbitrary length.\n",
    "\n",
    "14. Create a program that maps each word in a list to its length.\n",
    "\n",
    "15. Implement `longest_word()` to find the longest word in a list.\n",
    "\n",
    "16. Develop `filter_words()` to return words longer than a specified length from a list.\n",
    "\n",
    "17. Enhance the palindrome recognizer to handle phrases, ignoring spaces, punctuation, and case.\n",
    "\n",
    "18. Implement a function that checks if a given sentence is a [pangram](https://en.wikipedia.org/wiki/Pangram).\n",
    "\n",
    "19. Write a function that generates verses for the \"99 Bottles of Beer\" song.\n",
    "\n",
    "20. Create a translation function using a small dictionary to translate English words into French/.\n",
    "\n",
    "21. Develop `char_frequency()` to build a dictionary of character frequencies in a string.\n",
    "\n",
    "22. Implement a [Caesar cipher encoder/decoder using a shift of 13 (ROT-13)](https://en.wikipedia.org/wiki/ROT13).\n",
    "\n",
    "23. Create `fix_spaces()` to correct multiple spaces and missing spaces after periods in a text.\n",
    "\n",
    "24. Write `convert_to_third_person()` to transform verbs into their third person singular form.\n",
    "\n",
    "25. Implement `make_ing_form()` to convert verbs into their present participle form using heuristic rules.\n",
    "\n",
    "\n",
    "\n",
    "\n",
    "\n",
    "#### Higher-Order Functions and List Comprehensions\n",
    "\n",
    "26. Use `reduce()` to write `max_in_list()` that returns the largest number in a list.\n",
    "\n",
    "27. Write a program that maps words to their lengths using a for-loop, `map()`, and list comprehensions.\n",
    "\n",
    "28. Implement `find_longest_word()` using only higher-order functions.\n",
    "\n",
    "29. Use `filter()` to write `filter_long_words()` that filters words longer than `n`.\n",
    "\n",
    "30. Create `translate_with_map()` to translate English words to French using `map()`.\n",
    "\n",
    "31. Re-implement the higher-order functions `map()`, `filter()`, and `reduce()` from scratch.\n",
    "\n",
    "\n",
    "\n",
    "\n",
    "\n",
    "#### Simple Tasks with I/O\n",
    "\n",
    "32. Write a palindrome recognizer that reads lines from a file and prints only the palindromes.\n",
    "\n",
    "33. Implement a [semordnilap](https://en.wiktionary.org/wiki/semordnilap) recognizer that finds word pairs from a file where each word is the reverse of the other.\n",
    "\n",
    "34. Create `char_frequency_table()` to display a sorted character frequency table from a file.\n",
    "\n",
    "35. Write a function `speak_ICAO()` that translates text into the [ICAO phonetic alphabet](https://en.wikipedia.org/wiki/NATO_phonetic_alphabet).\n",
    "\n",
    "36. Implement `find_hapaxes()` to identify words that occur only once in a text file.\n",
    "\n",
    "37. Write a program that numbers each line in a text file.\n",
    "\n",
    "38. Calculate the average word length in a text file.\n",
    "\n",
    "39. Implement a number-guessing game where the user guesses a number between 1 and 20.\n",
    "\n",
    "40. Write a program that presents an [anagram](https://en.wikipedia.org/wiki/Anagram) of a randomly chosen word and allows the user to guess the original.\n",
    "\n",
    "41. Create a [Lingo game](https://en.wikipedia.org/wiki/Lingo_(American_game_show)) where players guess a hidden word, receiving clues about correct and misplaced characters.\n",
    "\n",
    "\n",
    "\n",
    "#### Advanced Tasks\n",
    "\n",
    "42. Develop a sentence splitter that separates a text into sentences based on various heuristics.\n",
    "\n",
    "43. Write a program to find the largest group of anagrams in a given word list.\n",
    "\n",
    "44. Generate a string of balanced brackets and verify if it is balanced.\n",
    "\n",
    "45. Create a word chain game where each word starts with the last letter of the previous one, using a list of [Pokemon names](https://en.wikipedia.org/wiki/List_of_Pok%C3%A9mon)."
   ]
  },
  {
   "cell_type": "code",
   "execution_count": null,
   "metadata": {},
   "outputs": [],
   "source": []
  }
 ],
 "metadata": {
  "colab": {
   "provenance": []
  },
  "kernelspec": {
   "display_name": "Python 3 (ipykernel)",
   "language": "python",
   "name": "python3"
  },
  "language_info": {
   "codemirror_mode": {
    "name": "ipython",
    "version": 3
   },
   "file_extension": ".py",
   "mimetype": "text/x-python",
   "name": "python",
   "nbconvert_exporter": "python",
   "pygments_lexer": "ipython3",
   "version": "3.12.4"
  }
 },
 "nbformat": 4,
 "nbformat_minor": 4
}
