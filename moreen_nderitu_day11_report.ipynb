{
 "cells": [
  {
   "cell_type": "markdown",
   "id": "946dcae8",
   "metadata": {},
   "source": [
    "# Practical_6: Numpy"
   ]
  },
  {
   "cell_type": "markdown",
   "id": "8a9edd94-c478-4cb5-af53-fd75a7d0be31",
   "metadata": {},
   "source": [
    "---\n",
    "\n",
    "### Exercise 1:\n",
    "Create a NumPy array of integers from 1 to 10.\n",
    "\n",
    "```python\n",
    "# Exercise 1\n",
    "```"
   ]
  },
  {
   "cell_type": "code",
   "execution_count": 1,
   "id": "88c6dfc0-0725-4265-8e6c-212fa7cac36a",
   "metadata": {},
   "outputs": [
    {
     "data": {
      "text/plain": [
       "array([ 1,  2,  3,  4,  5,  6,  7,  8,  9, 10])"
      ]
     },
     "execution_count": 1,
     "metadata": {},
     "output_type": "execute_result"
    }
   ],
   "source": [
    "import numpy as np \n",
    "onetoten = np.array(range(1,11))\n",
    "onetoten"
   ]
  },
  {
   "cell_type": "markdown",
   "id": "63418fff-a72a-437a-be4a-7b095563eb1e",
   "metadata": {},
   "source": [
    "---\n",
    "\n",
    "### Exercise 2:\n",
    "Create a 3x3 NumPy array filled with zeros.\n",
    "\n",
    "```python\n",
    "# Exercise 2\n",
    "```"
   ]
  },
  {
   "cell_type": "code",
   "execution_count": 2,
   "id": "b46e27d3-192c-4a1b-89ea-6097d59fb907",
   "metadata": {},
   "outputs": [
    {
     "data": {
      "text/plain": [
       "array([[0., 0., 0.],\n",
       "       [0., 0., 0.],\n",
       "       [0., 0., 0.]])"
      ]
     },
     "execution_count": 2,
     "metadata": {},
     "output_type": "execute_result"
    }
   ],
   "source": [
    "zero = np.zeros((3,3))\n",
    "zero"
   ]
  },
  {
   "cell_type": "markdown",
   "id": "0b586709-ce99-4b41-9709-468bc15a121c",
   "metadata": {},
   "source": [
    "---\n",
    "\n",
    "### Exercise 3:\n",
    "Create a NumPy array of 10 evenly spaced numbers between 0 and 5.\n",
    "\n",
    "```python\n",
    "# Exercise 3\n",
    "```"
   ]
  },
  {
   "cell_type": "code",
   "execution_count": 3,
   "id": "5ca48ed0-17bc-451f-8ccd-4063929b7856",
   "metadata": {},
   "outputs": [
    {
     "data": {
      "text/plain": [
       "array([0.        , 0.55555556, 1.11111111, 1.66666667, 2.22222222,\n",
       "       2.77777778, 3.33333333, 3.88888889, 4.44444444, 5.        ])"
      ]
     },
     "execution_count": 3,
     "metadata": {},
     "output_type": "execute_result"
    }
   ],
   "source": [
    "evenly_spaced = np.linspace(0,5,10)\n",
    "evenly_spaced\n",
    "#evenly_spaced = np.arange([0,6,0.5],  )"
   ]
  },
  {
   "cell_type": "markdown",
   "id": "20678a49-b51f-40fd-889a-7af013a3c5ed",
   "metadata": {},
   "source": [
    "---\n",
    "\n",
    "### Exercise 4:\n",
    "Create a 5x5 identity matrix using NumPy.\n",
    "\n",
    "```python\n",
    "# Exercise 4\n",
    "```"
   ]
  },
  {
   "cell_type": "code",
   "execution_count": 4,
   "id": "23d61998-7168-44f3-a00d-c443e1e6d34f",
   "metadata": {},
   "outputs": [
    {
     "data": {
      "text/plain": [
       "array([[1., 0., 0., 0., 0.],\n",
       "       [0., 1., 0., 0., 0.],\n",
       "       [0., 0., 1., 0., 0.],\n",
       "       [0., 0., 0., 1., 0.],\n",
       "       [0., 0., 0., 0., 1.]])"
      ]
     },
     "execution_count": 4,
     "metadata": {},
     "output_type": "execute_result"
    }
   ],
   "source": [
    "\n",
    "identity_matrix = np.identity(5)#.reshape((5,5))\n",
    "identity_matrix"
   ]
  },
  {
   "cell_type": "markdown",
   "id": "7a08bc29-061e-4caf-ab57-38442908153c",
   "metadata": {},
   "source": [
    "---\n",
    "\n",
    "### Exercise 5:\n",
    "Create a 4x4 matrix with random values between 0 and 1.\n",
    "\n",
    "```python\n",
    "# Exercise 5\n",
    "```"
   ]
  },
  {
   "cell_type": "code",
   "execution_count": 5,
   "id": "4aa93cf4-efab-463a-ad64-2db73fddf5fb",
   "metadata": {},
   "outputs": [
    {
     "data": {
      "text/plain": [
       "array([[0.        , 0.06666667, 0.13333333, 0.2       ],\n",
       "       [0.26666667, 0.33333333, 0.4       , 0.46666667],\n",
       "       [0.53333333, 0.6       , 0.66666667, 0.73333333],\n",
       "       [0.8       , 0.86666667, 0.93333333, 1.        ]])"
      ]
     },
     "execution_count": 5,
     "metadata": {},
     "output_type": "execute_result"
    }
   ],
   "source": [
    "fourbyfour = np.linspace(0,1,16).reshape((4,4))\n",
    "fourbyfour"
   ]
  },
  {
   "cell_type": "markdown",
   "id": "ad5e187a-c149-45b6-9034-6e1d397add95",
   "metadata": {},
   "source": [
    "---\n",
    "\n",
    "### Exercise 6:\n",
    "Find the shape of a NumPy array.\n",
    "\n",
    "```python\n",
    "# Exercise 6\n",
    "```"
   ]
  },
  {
   "cell_type": "code",
   "execution_count": 6,
   "id": "795be5d1-0674-47b6-8e2d-de1e5f5f7925",
   "metadata": {},
   "outputs": [
    {
     "data": {
      "text/plain": [
       "(9,)"
      ]
     },
     "execution_count": 6,
     "metadata": {},
     "output_type": "execute_result"
    }
   ],
   "source": [
    "array_1 = np.arange(1,10)\n",
    "array_1.shape"
   ]
  },
  {
   "cell_type": "markdown",
   "id": "9aa2c661-c97a-41b3-b625-786d863d4035",
   "metadata": {},
   "source": [
    "---\n",
    "\n",
    "### Exercise 7:\n",
    "Reshape a 1D NumPy array of 16 elements into a 4x4 matrix.\n",
    "\n",
    "```python\n",
    "# Exercise 7\n",
    "```"
   ]
  },
  {
   "cell_type": "code",
   "execution_count": 7,
   "id": "2e00f9b7-904a-4e88-a268-3e1121ba699a",
   "metadata": {},
   "outputs": [
    {
     "name": "stdout",
     "output_type": "stream",
     "text": [
      "[[ 1  2  3  4]\n",
      " [ 5  6  7  8]\n",
      " [ 9 10 11 12]\n",
      " [13 14 15 16]]\n"
     ]
    }
   ],
   "source": [
    "oneD = np.arange(1,17)\n",
    "oneD\n",
    "matrix = oneD.reshape((4,4))\n",
    "print(matrix)"
   ]
  },
  {
   "cell_type": "markdown",
   "id": "0212498f-8497-42bb-8834-d8ab95ce2410",
   "metadata": {},
   "source": [
    "---\n",
    "\n",
    "### Exercise 8:\n",
    "Find the data type of the elements in a NumPy array.\n",
    "\n",
    "```python\n",
    "# Exercise 8\n",
    "```"
   ]
  },
  {
   "cell_type": "code",
   "execution_count": 8,
   "id": "6b7c21a8-85ce-40c1-9337-acc405bd6cf5",
   "metadata": {},
   "outputs": [
    {
     "data": {
      "text/plain": [
       "dtype('float64')"
      ]
     },
     "execution_count": 8,
     "metadata": {},
     "output_type": "execute_result"
    }
   ],
   "source": [
    "random = np.linspace(1,20)\n",
    "random\n",
    "random[2].dtype"
   ]
  },
  {
   "cell_type": "markdown",
   "id": "0d4b55eb-d5c3-4b77-bf52-a01fc9aa0260",
   "metadata": {},
   "source": [
    "---\n",
    "\n",
    "### Exercise 9:\n",
    "Create a NumPy array of integers from 1 to 100 and find all even numbers in the array.\n",
    "\n",
    "```python\n",
    "# Exercise 9\n",
    "```"
   ]
  },
  {
   "cell_type": "code",
   "execution_count": 9,
   "id": "4484bd1c-141c-4cf7-902b-fa751155375a",
   "metadata": {},
   "outputs": [
    {
     "data": {
      "text/plain": [
       "array([  2.,   4.,   6.,   8.,  10.,  12.,  14.,  16.,  18.,  20.,  22.,\n",
       "        24.,  26.,  28.,  30.,  32.,  34.,  36.,  38.,  40.,  42.,  44.,\n",
       "        46.,  48.,  50.,  52.,  54.,  56.,  58.,  60.,  62.,  64.,  66.,\n",
       "        68.,  70.,  72.,  74.,  76.,  78.,  80.,  82.,  84.,  86.,  88.,\n",
       "        90.,  92.,  94.,  96.,  98., 100.])"
      ]
     },
     "execution_count": 9,
     "metadata": {},
     "output_type": "execute_result"
    }
   ],
   "source": [
    "even_num = np.linspace(2,100,50)\n",
    "even_num"
   ]
  },
  {
   "cell_type": "markdown",
   "id": "4615bdac-1dff-44e1-ad8e-d7b9b4bf5c24",
   "metadata": {},
   "source": [
    "---\n",
    "\n",
    "### Exercise 10:\n",
    "Generate a 6x6 matrix of random integers between 10 and 50.\n",
    "\n",
    "```python\n",
    "# Exercise 10\n",
    "```"
   ]
  },
  {
   "cell_type": "code",
   "execution_count": 10,
   "id": "0d2008e2-956e-4aae-8093-bf6701e878c1",
   "metadata": {},
   "outputs": [
    {
     "data": {
      "text/plain": [
       "array([[36, 37, 10, 19, 22, 22],\n",
       "       [22, 24, 29, 25, 12, 34],\n",
       "       [31, 39, 34, 11, 40, 21],\n",
       "       [23, 33, 45, 38, 42, 49],\n",
       "       [31, 47, 12, 41, 30, 44],\n",
       "       [48, 13, 27, 23, 41, 11]])"
      ]
     },
     "execution_count": 10,
     "metadata": {},
     "output_type": "execute_result"
    }
   ],
   "source": [
    "#n =np.random.rand(6,6)\n",
    "n = np.random.randint(10,50,size= (6,6))\n",
    "n"
   ]
  },
  {
   "cell_type": "markdown",
   "id": "2b64bc01-6466-4f10-9b36-8a5c7a2ba813",
   "metadata": {},
   "source": [
    "---\n",
    "\n",
    "### Exercise 11:\n",
    "Slice a 2D NumPy array to extract a submatrix.\n",
    "\n",
    "```python\n",
    "# Exercise 11\n",
    "```"
   ]
  },
  {
   "cell_type": "code",
   "execution_count": 11,
   "id": "e4978f8a-81f2-4461-85d3-11f7462193d7",
   "metadata": {},
   "outputs": [
    {
     "name": "stdout",
     "output_type": "stream",
     "text": [
      "[[0 7]\n",
      " [6 6]]\n",
      "[[6 6]]\n"
     ]
    }
   ],
   "source": [
    "twoD = np.random.randint(10, size = (2,2))\n",
    "print(twoD)\n",
    "submatrix = twoD[1:2]\n",
    "print(submatrix)\n"
   ]
  },
  {
   "cell_type": "markdown",
   "id": "75da661f-6b49-4004-9c4e-c54495f792e5",
   "metadata": {},
   "source": [
    "---\n",
    "\n",
    "### Exercise 12:\n",
    "Calculate the sum of all elements in a NumPy array.\n",
    "\n",
    "```python\n",
    "# Exercise 12\n",
    "```"
   ]
  },
  {
   "cell_type": "code",
   "execution_count": 12,
   "id": "7fa72214-0c3c-49f0-9984-5d9daf326799",
   "metadata": {},
   "outputs": [
    {
     "name": "stdout",
     "output_type": "stream",
     "text": [
      "[ 1 10]\n"
     ]
    },
    {
     "data": {
      "text/plain": [
       "11"
      ]
     },
     "execution_count": 12,
     "metadata": {},
     "output_type": "execute_result"
    }
   ],
   "source": [
    "S = np.array((1,10))\n",
    "print(S)\n",
    "sum = np.sum(S)\n",
    "sum"
   ]
  },
  {
   "cell_type": "markdown",
   "id": "a0dec51f-042c-4271-80ed-c36917e20b04",
   "metadata": {},
   "source": [
    "---\n",
    "\n",
    "### Exercise 13:\n",
    "Calculate the mean, median, and standard deviation of a NumPy array.\n",
    "\n",
    "```python\n",
    "# Exercise 13\n",
    "```"
   ]
  },
  {
   "cell_type": "code",
   "execution_count": 13,
   "id": "3200232e-6382-4049-8ade-43742380f7cf",
   "metadata": {},
   "outputs": [
    {
     "name": "stdout",
     "output_type": "stream",
     "text": [
      "[  3.           4.97959184   6.95918367   8.93877551  10.91836735\n",
      "  12.89795918  14.87755102  16.85714286  18.83673469  20.81632653\n",
      "  22.79591837  24.7755102   26.75510204  28.73469388  30.71428571\n",
      "  32.69387755  34.67346939  36.65306122  38.63265306  40.6122449\n",
      "  42.59183673  44.57142857  46.55102041  48.53061224  50.51020408\n",
      "  52.48979592  54.46938776  56.44897959  58.42857143  60.40816327\n",
      "  62.3877551   64.36734694  66.34693878  68.32653061  70.30612245\n",
      "  72.28571429  74.26530612  76.24489796  78.2244898   80.20408163\n",
      "  82.18367347  84.16326531  86.14285714  88.12244898  90.10204082\n",
      "  92.08163265  94.06122449  96.04081633  98.02040816 100.        ]\n",
      "51.5\n",
      "51.5\n",
      "28.567231834636647\n"
     ]
    }
   ],
   "source": [
    "sample = np.linspace(3,100,50)\n",
    "print(sample)\n",
    "average = np.mean(sample)\n",
    "print(average)\n",
    "median = np.median(sample)\n",
    "print(median)\n",
    "standard = np.std(sample)\n",
    "print(standard)\n",
    "#mode = np.mode(sample)\n",
    "#print(mode)"
   ]
  },
  {
   "cell_type": "markdown",
   "id": "ee5b4733-fe66-4e6f-846e-ea03db052240",
   "metadata": {},
   "source": [
    "---\n",
    "\n",
    "### Exercise 14:\n",
    "Find the maximum and minimum values in a NumPy array.\n",
    "\n",
    "```python\n",
    "# Exercise 14\n",
    "```"
   ]
  },
  {
   "cell_type": "code",
   "execution_count": 14,
   "id": "790e3c30-98b3-4e65-8294-e6ae5a2cdfec",
   "metadata": {},
   "outputs": [
    {
     "name": "stdout",
     "output_type": "stream",
     "text": [
      "99\n",
      "1\n"
     ]
    }
   ],
   "source": [
    "odd_num = np.arange(1,100,2)\n",
    "odd_num\n",
    "max = np.max(odd_num)\n",
    "print(max)\n",
    "min = np.min(odd_num)\n",
    "print(min)\n"
   ]
  },
  {
   "cell_type": "code",
   "execution_count": 15,
   "id": "f3d1649e-7a5d-4ae1-8aa2-85a409c266d9",
   "metadata": {},
   "outputs": [
    {
     "name": "stdout",
     "output_type": "stream",
     "text": [
      "[[ 33  88  70 186  74 194 141 181]\n",
      " [160 105 163 185  57  60  12 121]\n",
      " [ 45 166 117 148 128  66 117  91]\n",
      " [199  37 191  11 186  96 108  80]\n",
      " [ 51 116 147  50  96  51 108 119]]\n",
      "[194 185 166 199 147]\n",
      "[199 166 191 186 186 194 141 181]\n"
     ]
    }
   ],
   "source": [
    "matrix_a = np.random.randint(10,200,size=(5,8))\n",
    "print(matrix_a)\n",
    "row_max = np.max(matrix_a, axis = 1) # check for the maximum values rowwise\n",
    "print(row_max)\n",
    "col_max = np.max(matrix_a, axis = 0) # Check for the max in column \n",
    "print(col_max)"
   ]
  },
  {
   "cell_type": "code",
   "execution_count": 16,
   "id": "13d96d7c-c3e9-4401-8d98-4355be0c7d62",
   "metadata": {},
   "outputs": [
    {
     "name": "stdout",
     "output_type": "stream",
     "text": [
      "[194 185 166 199 147]\n"
     ]
    }
   ],
   "source": [
    "row_max = np.max(matrix_a, axis =1)\n",
    "print(row_max)"
   ]
  },
  {
   "cell_type": "code",
   "execution_count": null,
   "id": "fa998e67-6a66-405d-8391-ec2e41af9c11",
   "metadata": {},
   "outputs": [],
   "source": []
  },
  {
   "cell_type": "markdown",
   "id": "0084aa33-15cc-47e7-8b45-a075a9850212",
   "metadata": {},
   "source": [
    "---\n",
    "\n",
    "### Exercise 15:\n",
    "Create a NumPy array of 20 random integers and find the index of the maximum value.\n",
    "\n",
    "```python\n",
    "# Exercise 15\n",
    "```"
   ]
  },
  {
   "cell_type": "code",
   "execution_count": 17,
   "id": "a5f73973-1ab6-416a-96a6-7ac4a83c4bb7",
   "metadata": {},
   "outputs": [
    {
     "name": "stdout",
     "output_type": "stream",
     "text": [
      "[ 8 12  3 66  1 77 23 36 47 47 49 97 20 86 47 60 50 42 86 92]\n",
      "92\n",
      "11\n"
     ]
    }
   ],
   "source": [
    "num = np.random.randint(1,100, size = 20)\n",
    "print(num)\n",
    "print(num[19])\n",
    "max_index = np.argmax(num) \n",
    "print(max_index)"
   ]
  },
  {
   "cell_type": "markdown",
   "id": "40086db8-59c2-431d-bdf2-26ca70fc3ea9",
   "metadata": {},
   "source": [
    "---\n",
    "\n",
    "### Exercise 16:\n",
    "Create a NumPy array and reverse its elements.\n",
    "\n",
    "```python\n",
    "# Exercise 16\n",
    "```"
   ]
  },
  {
   "cell_type": "code",
   "execution_count": 18,
   "id": "9f29cdce-7e9e-483f-9bc0-ce64f1b95507",
   "metadata": {},
   "outputs": [
    {
     "data": {
      "text/plain": [
       "array([47, 42, 37, 32, 27, 22, 17, 12,  7,  2])"
      ]
     },
     "execution_count": 18,
     "metadata": {},
     "output_type": "execute_result"
    }
   ],
   "source": [
    "seq = np.arange(2,50,5)\n",
    "seq\n",
    "reversed = np.flip(seq)\n",
    "reversed"
   ]
  },
  {
   "cell_type": "markdown",
   "id": "97da3192-ab54-43d3-8497-e3317c78e447",
   "metadata": {},
   "source": [
    "---\n",
    "\n",
    "### Exercise 17:\n",
    "Create a 3x3 matrix and multiply it element-wise by another 3x3 matrix.\n",
    "\n",
    "```python\n",
    "# Exercise 17\n",
    "```"
   ]
  },
  {
   "cell_type": "code",
   "execution_count": 19,
   "id": "732dc13a-d67a-43f6-ba8c-8109dc3b5277",
   "metadata": {},
   "outputs": [
    {
     "data": {
      "text/plain": [
       "array([[64,  4, 64],\n",
       "       [ 4,  1,  1],\n",
       "       [ 9, 49,  4]])"
      ]
     },
     "execution_count": 19,
     "metadata": {},
     "output_type": "execute_result"
    }
   ],
   "source": [
    "three_matrix = np.random.randint(9, size = (3,3))\n",
    "three_matrix\n",
    "prod = np.multiply(three_matrix, three_matrix)\n",
    "prod"
   ]
  },
  {
   "cell_type": "markdown",
   "id": "e60b7390-27f2-49fb-8c08-f159e2c15165",
   "metadata": {},
   "source": [
    "---\n",
    "\n",
    "### Exercise 18:\n",
    "Create a diagonal matrix from a given 1D array.\n",
    "\n",
    "```python\n",
    "# Exercise 18\n",
    "```"
   ]
  },
  {
   "cell_type": "code",
   "execution_count": 20,
   "id": "3aeadf5c-006f-4f59-ad60-4ecbb5a2cdea",
   "metadata": {},
   "outputs": [
    {
     "name": "stdout",
     "output_type": "stream",
     "text": [
      "[0. 1. 2. 3. 4. 5. 6. 7. 8. 9.]\n"
     ]
    }
   ],
   "source": [
    "array_2 = np.linspace(0,9,10)\n",
    "print(array_2)"
   ]
  },
  {
   "cell_type": "code",
   "execution_count": 21,
   "id": "c1d8eee0-fead-49c5-bafd-1e3c20f04088",
   "metadata": {},
   "outputs": [
    {
     "name": "stdout",
     "output_type": "stream",
     "text": [
      "[[0. 0. 0. 0. 0. 0. 0. 0. 0. 0.]\n",
      " [0. 1. 0. 0. 0. 0. 0. 0. 0. 0.]\n",
      " [0. 0. 2. 0. 0. 0. 0. 0. 0. 0.]\n",
      " [0. 0. 0. 3. 0. 0. 0. 0. 0. 0.]\n",
      " [0. 0. 0. 0. 4. 0. 0. 0. 0. 0.]\n",
      " [0. 0. 0. 0. 0. 5. 0. 0. 0. 0.]\n",
      " [0. 0. 0. 0. 0. 0. 6. 0. 0. 0.]\n",
      " [0. 0. 0. 0. 0. 0. 0. 7. 0. 0.]\n",
      " [0. 0. 0. 0. 0. 0. 0. 0. 8. 0.]\n",
      " [0. 0. 0. 0. 0. 0. 0. 0. 0. 9.]]\n"
     ]
    }
   ],
   "source": [
    "diagonal = np.diag(array_2)\n",
    "print(diagonal)"
   ]
  },
  {
   "cell_type": "markdown",
   "id": "6cdd78de-f52f-4488-8471-b85211f1602b",
   "metadata": {},
   "source": [
    "---\n",
    "\n",
    "### Exercise 19:\n",
    "Perform matrix multiplication on two 2D NumPy arrays.\n",
    "\n",
    "```python\n",
    "# Exercise 19\n",
    "```"
   ]
  },
  {
   "cell_type": "code",
   "execution_count": 22,
   "id": "db82a591-ab8e-4213-bb63-6b4079be774c",
   "metadata": {},
   "outputs": [
    {
     "name": "stdout",
     "output_type": "stream",
     "text": [
      "[[1 0]\n",
      " [0 8]]\n",
      "\t\n",
      "[[19 18]\n",
      " [17 19]]\n",
      "\t\n",
      "[[ 19   0]\n",
      " [  0 152]]\n"
     ]
    }
   ],
   "source": [
    "A = np.random.randint(0,10, size =(2,2))\n",
    "print(A )\n",
    "print('\\t')\n",
    "B = np.random.randint(10,20 ,size = (2,2))\n",
    "print(B)\n",
    "print('\\t')\n",
    "AB = np.multiply(A,B)\n",
    "print(AB)"
   ]
  },
  {
   "cell_type": "markdown",
   "id": "915f1939-d4a3-43ba-a7da-67bd7641298a",
   "metadata": {},
   "source": [
    "---\n",
    "\n",
    "### Exercise 20:\n",
    "Flatten a 2D NumPy array into a 1D array.\n",
    "\n",
    "```python\n",
    "# Exercise 20\n",
    "```"
   ]
  },
  {
   "cell_type": "code",
   "execution_count": 23,
   "id": "09407ea1-9672-4414-a97a-2df01cdf60eb",
   "metadata": {},
   "outputs": [
    {
     "data": {
      "text/plain": [
       "array([13, 22, 20, 14])"
      ]
     },
     "execution_count": 23,
     "metadata": {},
     "output_type": "execute_result"
    }
   ],
   "source": [
    "matrix_3 = np.random.randint( 13,26, size = (2,2))\n",
    "matrix_3\n",
    "matrix_3.flatten()"
   ]
  },
  {
   "cell_type": "markdown",
   "id": "19d5656a-d1ed-44c1-82e5-7a927915e493",
   "metadata": {},
   "source": [
    "---\n",
    "\n",
    "### Exercise 21:\n",
    "Stack two NumPy arrays vertically.\n",
    "\n",
    "```python\n",
    "# Exercise 21\n",
    "```"
   ]
  },
  {
   "cell_type": "code",
   "execution_count": 24,
   "id": "123bba42-a240-4adb-9590-25cc3f03cfb0",
   "metadata": {},
   "outputs": [
    {
     "name": "stdout",
     "output_type": "stream",
     "text": [
      "[10 30]\n",
      "[ 1 10]\n"
     ]
    },
    {
     "data": {
      "text/plain": [
       "array([[10, 30],\n",
       "       [ 1, 10]])"
      ]
     },
     "execution_count": 24,
     "metadata": {},
     "output_type": "execute_result"
    }
   ],
   "source": [
    "m = np.array([10,30])\n",
    "n = np.array([1,10])\n",
    "print(m)\n",
    "print(n)\n",
    "np.vstack((m,n))\n",
    "#print(M)\n",
    "#M = np.expand_dims(m, axis = 0)\n",
    "#M"
   ]
  },
  {
   "cell_type": "markdown",
   "id": "f1da0c6a-e471-44c6-ae2f-0af3353632ce",
   "metadata": {},
   "source": [
    "---\n",
    "\n",
    "### Exercise 22:\n",
    "Stack two NumPy arrays horizontally.\n",
    "\n",
    "```python\n",
    "# Exercise 22\n",
    "```"
   ]
  },
  {
   "cell_type": "code",
   "execution_count": 25,
   "id": "d9e07638-f3d8-4e18-952e-691a59b4c9b1",
   "metadata": {},
   "outputs": [
    {
     "data": {
      "text/plain": [
       "array([ 1, 10, 10, 30])"
      ]
     },
     "execution_count": 25,
     "metadata": {},
     "output_type": "execute_result"
    }
   ],
   "source": [
    "np.hstack((n,m))"
   ]
  },
  {
   "cell_type": "markdown",
   "id": "1441e30d-a1f4-4966-b87b-35c5d837d745",
   "metadata": {},
   "source": [
    "---\n",
    "\n",
    "### Exercise 23:\n",
    "Split a NumPy array into multiple sub-arrays.\n",
    "\n",
    "```python\n",
    "# Exercise 23\n",
    "```"
   ]
  },
  {
   "cell_type": "code",
   "execution_count": 26,
   "id": "8907b6c7-0139-4b8d-ad98-9d40f208cd26",
   "metadata": {},
   "outputs": [
    {
     "data": {
      "text/plain": [
       "[array([1.        , 1.18367347, 1.36734694, 1.55102041, 1.73469388,\n",
       "        1.91836735, 2.10204082, 2.28571429, 2.46938776, 2.65306122]),\n",
       " array([2.83673469, 3.02040816, 3.20408163, 3.3877551 , 3.57142857,\n",
       "        3.75510204, 3.93877551, 4.12244898, 4.30612245, 4.48979592]),\n",
       " array([4.67346939, 4.85714286, 5.04081633, 5.2244898 , 5.40816327,\n",
       "        5.59183673, 5.7755102 , 5.95918367, 6.14285714, 6.32653061]),\n",
       " array([6.51020408, 6.69387755, 6.87755102, 7.06122449, 7.24489796,\n",
       "        7.42857143, 7.6122449 , 7.79591837, 7.97959184, 8.16326531]),\n",
       " array([ 8.34693878,  8.53061224,  8.71428571,  8.89795918,  9.08163265,\n",
       "         9.26530612,  9.44897959,  9.63265306,  9.81632653, 10.        ])]"
      ]
     },
     "execution_count": 26,
     "metadata": {},
     "output_type": "execute_result"
    }
   ],
   "source": [
    "num_1 = np.linspace(1,10)\n",
    "num_1\n",
    "np.split(num_1,5)"
   ]
  },
  {
   "cell_type": "markdown",
   "id": "ad78f7b6-d422-43fe-94d7-6ddde61e9e2b",
   "metadata": {},
   "source": [
    "---\n",
    "\n",
    "### Exercise 24:\n",
    "Generate a random NumPy array and round each element to two decimal places.\n",
    "\n",
    "```python\n",
    "# Exercise 24\n",
    "```"
   ]
  },
  {
   "cell_type": "code",
   "execution_count": 27,
   "id": "7053d164-1270-4efb-8951-450d9820779c",
   "metadata": {},
   "outputs": [
    {
     "data": {
      "text/plain": [
       "array([ 1.  ,  1.39,  1.78,  2.16,  2.55,  2.94,  3.33,  3.71,  4.1 ,\n",
       "        4.49,  4.88,  5.27,  5.65,  6.04,  6.43,  6.82,  7.2 ,  7.59,\n",
       "        7.98,  8.37,  8.76,  9.14,  9.53,  9.92, 10.31, 10.69, 11.08,\n",
       "       11.47, 11.86, 12.24, 12.63, 13.02, 13.41, 13.8 , 14.18, 14.57,\n",
       "       14.96, 15.35, 15.73, 16.12, 16.51, 16.9 , 17.29, 17.67, 18.06,\n",
       "       18.45, 18.84, 19.22, 19.61, 20.  ])"
      ]
     },
     "execution_count": 27,
     "metadata": {},
     "output_type": "execute_result"
    }
   ],
   "source": [
    "element = np.linspace(1,20)\n",
    "element\n",
    "np.round(element ,2)"
   ]
  },
  {
   "cell_type": "markdown",
   "id": "d0ee2c75-d01a-4588-bcbc-2dd7bf3157ab",
   "metadata": {},
   "source": [
    "---\n",
    "\n",
    "### Exercise 25:\n",
    "Find the unique elements of a NumPy array.\n",
    "\n",
    "```python\n",
    "# Exercise 25\n",
    "```"
   ]
  },
  {
   "cell_type": "code",
   "execution_count": 28,
   "id": "53a76d77-157f-4b0f-a549-4d1d5689fde8",
   "metadata": {},
   "outputs": [
    {
     "name": "stdout",
     "output_type": "stream",
     "text": [
      "[12 23 17 12 29  3]\n",
      "[ 3 12 17 23 29]\n"
     ]
    }
   ],
   "source": [
    "Array = np.array([12,23,17,12,29,3])\n",
    "print(Array) \n",
    "U = np.unique(Array)\n",
    "print(U)"
   ]
  },
  {
   "cell_type": "markdown",
   "id": "2228fbfd-3987-493f-b66e-f2ee940ee787",
   "metadata": {},
   "source": [
    "---\n",
    "\n",
    "### Exercise 26:\n",
    "Replace all elements in a NumPy array that are less than a specific value with that value.\n",
    "\n",
    "```python\n",
    "# Exercise 26\n",
    "```"
   ]
  },
  {
   "cell_type": "code",
   "execution_count": 67,
   "id": "9d9c415d-f502-4f80-a480-c9f100e4f3ea",
   "metadata": {},
   "outputs": [
    {
     "name": "stdout",
     "output_type": "stream",
     "text": [
      "[10 11 12 13 14 15 16 17 18 19]\n",
      "[45 45 45 45 45 45 45 45 45 45]\n"
     ]
    }
   ],
   "source": [
    "ds = np.array(range(10,20))\n",
    "print(ds)\n",
    "ds[0:] = 45\n",
    "print(ds)"
   ]
  },
  {
   "cell_type": "markdown",
   "id": "23ec3bbe-4c37-4765-8978-6d3b77d90021",
   "metadata": {},
   "source": [
    "---\n",
    "\n",
    "### Exercise 27:\n",
    "Find the cumulative sum of the elements in a NumPy array.\n",
    "\n",
    "```python\n",
    "# Exercise 27\n",
    "```"
   ]
  },
  {
   "cell_type": "code",
   "execution_count": 60,
   "id": "a981f23f-31d7-428a-ac28-063d58f744e8",
   "metadata": {},
   "outputs": [
    {
     "data": {
      "text/plain": [
       "145"
      ]
     },
     "execution_count": 60,
     "metadata": {},
     "output_type": "execute_result"
    }
   ],
   "source": [
    "ds = np.array(range(10,20))\n",
    "ds\n",
    "np.sum(ds)"
   ]
  },
  {
   "cell_type": "markdown",
   "id": "7e191c8a-2540-4f0e-86be-baa69350df96",
   "metadata": {},
   "source": [
    "-"
   ]
  },
  {
   "cell_type": "markdown",
   "id": "5425a710-2057-47fc-862b-31d800dfb5f0",
   "metadata": {},
   "source": [
    "--\n",
    "\n",
    "### Exercise 28:\n",
    "Create a NumPy array and find the number of non-zero elements in it.\n",
    "\n",
    "```python\n",
    "# Exercise 28\n",
    "```"
   ]
  },
  {
   "cell_type": "code",
   "execution_count": 29,
   "id": "c911998a-e31a-4626-8cc7-bba38b149e24",
   "metadata": {},
   "outputs": [
    {
     "data": {
      "text/plain": [
       "array([ True, False, False, False, False])"
      ]
     },
     "execution_count": 29,
     "metadata": {},
     "output_type": "execute_result"
    }
   ],
   "source": [
    "import numpy as np\n",
    "random_array = np.array(range(0,9,2))\n",
    "random_array  \n",
    "np.isin(random_array,0 )"
   ]
  },
  {
   "cell_type": "markdown",
   "id": "5a00d712-de86-4b38-8b7a-44fef38d81b4",
   "metadata": {},
   "source": [
    "---\n",
    "\n",
    "### Exercise 29:\n",
    "Create a NumPy array of random integers and sort it in ascending order.\n",
    "\n",
    "```python\n",
    "# Exercise 29\n",
    "```"
   ]
  },
  {
   "cell_type": "code",
   "execution_count": 30,
   "id": "323def51-78ac-4d30-842a-358dc68382dd",
   "metadata": {},
   "outputs": [
    {
     "name": "stdout",
     "output_type": "stream",
     "text": [
      "Sequence,  [27 23 36 20 11 30 18 29 29 40 18 11 17 43 12 43]\n"
     ]
    },
    {
     "data": {
      "text/plain": [
       "array([11, 11, 12, 17, 18, 18, 20, 23, 27, 29, 29, 30, 36, 40, 43, 43])"
      ]
     },
     "execution_count": 30,
     "metadata": {},
     "output_type": "execute_result"
    }
   ],
   "source": [
    "sort_1= np.random.randint(10, 45, size = 16)\n",
    "print(\"Sequence, \",sort_1 )\n",
    "np.sort(sort_1)"
   ]
  },
  {
   "cell_type": "markdown",
   "id": "0583f163-110e-4a01-8778-ba157686b00d",
   "metadata": {},
   "source": [
    "---\n",
    "\n",
    "### Exercise 30:\n",
    "Find the row-wise and column-wise sum of a 3x3 matrix.\n",
    "\n",
    "```python\n",
    "# Exercise 30\n",
    "```"
   ]
  },
  {
   "cell_type": "code",
   "execution_count": 31,
   "id": "6a5ac672-18f2-4803-837f-4e95a9e31631",
   "metadata": {},
   "outputs": [
    {
     "name": "stdout",
     "output_type": "stream",
     "text": [
      "[57 93 95]\n",
      "[61 99 85]\n"
     ]
    }
   ],
   "source": [
    "sort_2= np.random.randint(10, 45, size = (3,3))\n",
    "sort_2\n",
    "print(np.sum(sort_2, axis =1))\n",
    "print(np.sum(sort_2, axis =0))"
   ]
  },
  {
   "cell_type": "markdown",
   "id": "0c69bea4-daa3-465d-b48c-34560bc63514",
   "metadata": {},
   "source": [
    "---\n",
    "\n",
    "### Exercise 31:\n",
    "Generate a 2D NumPy array with random values and normalize it (scale the values between 0 and 1).\n",
    "\n",
    "```python\n",
    "# Exercise 31\n",
    "```"
   ]
  },
  {
   "cell_type": "code",
   "execution_count": 52,
   "id": "55d153de-da5e-48ce-a67a-74e297081076",
   "metadata": {},
   "outputs": [
    {
     "name": "stdout",
     "output_type": "stream",
     "text": [
      "[[15 12 22]\n",
      " [19 17 21]]\n",
      "12\n",
      "22\n",
      "10\n",
      "[[ 3.  0. 10.]\n",
      " [ 7.  5.  9.]]\n"
     ]
    }
   ],
   "source": [
    "y = np.random.randint(12,23,size = (2,3))\n",
    "print(y)\n",
    "min = np.min(y)\n",
    "print(min)\n",
    "max = np.max(y)\n",
    "print(max)\n",
    "diff = max - min\n",
    "print(diff)\n",
    "normalize = ((np.subtract(y ,min))*diff)/diff\n",
    "print(normalize)"
   ]
  },
  {
   "cell_type": "markdown",
   "id": "c54c2ed7-baf6-4226-9c5b-6bbbc9bfd337",
   "metadata": {},
   "source": [
    "---\n",
    "\n",
    "### Exercise 32:\n",
    "Create two NumPy arrays and find the dot product.\n",
    "\n",
    "```python\n",
    "# Exercise 32\n",
    "```"
   ]
  },
  {
   "cell_type": "code",
   "execution_count": 33,
   "id": "43a4d9a0-a0b8-40ba-a877-dc3dd8b9e359",
   "metadata": {},
   "outputs": [
    {
     "name": "stdout",
     "output_type": "stream",
     "text": [
      "[[5 7]\n",
      " [1 8]]\n",
      "[[ 7  3]\n",
      " [ 4 15]]\n"
     ]
    },
    {
     "data": {
      "text/plain": [
       "array([[ 63, 120],\n",
       "       [ 39, 123]])"
      ]
     },
     "execution_count": 33,
     "metadata": {},
     "output_type": "execute_result"
    }
   ],
   "source": [
    "U = np.random.randint(1,10,size =(2,2))\n",
    "print(U)\n",
    "R = np.random.randint(3,20, size = (2,2))\n",
    "print(R)\n",
    "np.matrix.dot(U,R)"
   ]
  },
  {
   "cell_type": "markdown",
   "id": "6ec951e5-aa6f-46b4-8b11-99abb0ea0ae1",
   "metadata": {},
   "source": [
    "---\n",
    "\n",
    "### Exercise 33:\n",
    "Find the trace of a square NumPy matrix.\n",
    "\n",
    "```python\n",
    "# Exercise 33\n",
    "```"
   ]
  },
  {
   "cell_type": "code",
   "execution_count": 34,
   "id": "a739981f-a40b-4739-930b-3d655a339e56",
   "metadata": {},
   "outputs": [
    {
     "name": "stdout",
     "output_type": "stream",
     "text": [
      "[[ 1  2  3  4]\n",
      " [ 5  6  7  8]\n",
      " [ 9 10 11 12]\n",
      " [13 14 15 16]]\n"
     ]
    },
    {
     "data": {
      "text/plain": [
       "34"
      ]
     },
     "execution_count": 34,
     "metadata": {},
     "output_type": "execute_result"
    }
   ],
   "source": [
    "Sqrt_matrix = np.arange(1,17).reshape((4,4))\n",
    "print(Sqrt_matrix)\n",
    "np.matrix.trace(Sqrt_matrix)"
   ]
  },
  {
   "cell_type": "markdown",
   "id": "79c6869f-4b9b-4fd5-bc7b-853daf3b4353",
   "metadata": {},
   "source": [
    "---\n",
    "\n",
    "### Exercise 34:\n",
    "Create a 2D array and swap two rows.\n",
    "\n",
    "```python\n",
    "# Exercise 34\n",
    "```"
   ]
  },
  {
   "cell_type": "code",
   "execution_count": 35,
   "id": "4a73605c-a428-4096-8bf9-af63d12e6a69",
   "metadata": {},
   "outputs": [
    {
     "name": "stdout",
     "output_type": "stream",
     "text": [
      "[[1 2]\n",
      " [3 4]]\n"
     ]
    },
    {
     "data": {
      "text/plain": [
       "array([[1, 3],\n",
       "       [2, 4]])"
      ]
     },
     "execution_count": 35,
     "metadata": {},
     "output_type": "execute_result"
    }
   ],
   "source": [
    "D = np.arange(1,5).reshape((2,2))\n",
    "print(D)\n",
    "np.ndarray.swapaxes(D, 0,1)"
   ]
  },
  {
   "cell_type": "markdown",
   "id": "ae68d69c-53f2-4ba6-8434-d56420b171b4",
   "metadata": {},
   "source": [
    "---\n",
    "\n",
    "### Exercise 35:\n",
    "Create a 1D NumPy array and convert it into a column vector.\n",
    "\n",
    "```python\n",
    "# Exercise 35\n",
    "```"
   ]
  },
  {
   "cell_type": "code",
   "execution_count": 36,
   "id": "ec37068a-e7f5-4a48-a95b-d8d1fcd16925",
   "metadata": {},
   "outputs": [
    {
     "name": "stdout",
     "output_type": "stream",
     "text": [
      "[ 4  5  6  7  8  9 10 11 12 13 14 15 16 17 18 19]\n"
     ]
    },
    {
     "data": {
      "text/plain": [
       "matrix([[ 4,  5,  6,  7,  8,  9, 10, 11, 12, 13, 14, 15, 16, 17, 18, 19]])"
      ]
     },
     "execution_count": 36,
     "metadata": {},
     "output_type": "execute_result"
    }
   ],
   "source": [
    "P = np.arange(4,20)\n",
    "print(P)\n",
    "np.asmatrix(P)"
   ]
  },
  {
   "cell_type": "markdown",
   "id": "38d13719-da65-425b-b2f1-3aaf2c19b268",
   "metadata": {},
   "source": [
    "---\n",
    "\n",
    "### Exercise 36:\n",
    "Find the determinant of a 3x3 matrix.\n",
    "\n",
    "```python\n",
    "# Exercise 36\n",
    "```"
   ]
  },
  {
   "cell_type": "code",
   "execution_count": 37,
   "id": "823bd0be-064d-48f8-ae29-f2bb604cf66e",
   "metadata": {},
   "outputs": [
    {
     "name": "stdout",
     "output_type": "stream",
     "text": [
      "[[16 24 18]\n",
      " [27 11 18]\n",
      " [22 25 19]]\n"
     ]
    },
    {
     "data": {
      "text/plain": [
       "1129.9999999999995"
      ]
     },
     "execution_count": 37,
     "metadata": {},
     "output_type": "execute_result"
    }
   ],
   "source": [
    "three_by_three = np.random.randint(10,30, size =(3,3))\n",
    "print(three_by_three)\n",
    "np.linalg.det(three_by_three)"
   ]
  },
  {
   "cell_type": "markdown",
   "id": "1a4c8ba5-6011-47c7-82d5-89f59c4d809f",
   "metadata": {},
   "source": [
    "---\n",
    "\n",
    "### Exercise 37:\n",
    "Find the eigenvalues and eigenvectors of a 2x2 matrix.\n",
    "\n",
    "```python\n",
    "# Exercise 37\n",
    "```"
   ]
  },
  {
   "cell_type": "code",
   "execution_count": 38,
   "id": "29d6b114-6243-4383-8b76-5e7848789c1e",
   "metadata": {},
   "outputs": [
    {
     "name": "stdout",
     "output_type": "stream",
     "text": [
      "[[7 5]\n",
      " [3 9]]\n"
     ]
    },
    {
     "data": {
      "text/plain": [
       "EigResult(eigenvalues=array([ 59.78181709, -12.23717379,  -1.5446433 ]), eigenvectors=array([[-0.55594609, -0.50107735, -0.4086587 ],\n",
       "       [-0.54066903,  0.81266187, -0.33731065],\n",
       "       [-0.63134852, -0.29749314,  0.84806815]]))"
      ]
     },
     "execution_count": 38,
     "metadata": {},
     "output_type": "execute_result"
    }
   ],
   "source": [
    "two_by_two = np.random.randint(2,10, size = (2,2))\n",
    "print(two_by_two)\n",
    "np.linalg.eig(three_by_three)"
   ]
  },
  {
   "cell_type": "markdown",
   "id": "45439247-85f0-48fd-8e09-49c822967d83",
   "metadata": {},
   "source": [
    "---\n",
    "\n",
    "### Exercise 38:\n",
    "Solve a system of linear equations using NumPy.\n",
    "\n",
    "```python\n",
    "# Exercise 38\n",
    "```"
   ]
  },
  {
   "cell_type": "code",
   "execution_count": 39,
   "id": "8afcdc0c-b60f-4bd5-b618-8a1b85912f09",
   "metadata": {},
   "outputs": [
    {
     "name": "stdout",
     "output_type": "stream",
     "text": [
      "[[0 1]\n",
      " [2 3]]\n",
      "\t\n",
      "(2, 2)\n",
      "[[0 1]\n",
      " [2 3]]\n",
      "\t\n",
      "(2, 2)\n"
     ]
    },
    {
     "data": {
      "text/plain": [
       "array([[1., 0.],\n",
       "       [0., 1.]])"
      ]
     },
     "execution_count": 39,
     "metadata": {},
     "output_type": "execute_result"
    }
   ],
   "source": [
    "x_val = np.arange(4).reshape((2,2))\n",
    "print(x_val)\n",
    "print('\\t')\n",
    "print(x_val.shape)\n",
    "y_val = np.arange(4).reshape((2,2))\n",
    "print(y_val)\n",
    "print('\\t')\n",
    "print(y_val.shape)\n",
    "np.linalg.solve( x_val, y_val)"
   ]
  },
  {
   "cell_type": "markdown",
   "id": "5ba28933-6681-4f95-97df-e2eee65f91d8",
   "metadata": {},
   "source": [
    "---\n",
    "\n",
    "### Exercise 39:\n",
    "Add Gaussian noise to a NumPy array.\n",
    "\n",
    "```python\n",
    "# Exercise 39\n",
    "```"
   ]
  },
  {
   "cell_type": "code",
   "execution_count": 40,
   "id": "5ce38955-6b27-4157-8aad-ee879b48bfec",
   "metadata": {},
   "outputs": [
    {
     "data": {
      "text/plain": [
       "array([[-1.23497282, -0.11425414, -1.45669942,  0.82416327, -0.30015356,\n",
       "        -0.77506173, -2.13641362, -0.37664886, -1.82552735, -2.07817266,\n",
       "         0.2392238 , -1.22663064, -0.3348498 ,  1.52395579, -0.2088065 ,\n",
       "        -0.31837588,  0.28479426, -0.45383734, -0.44966873,  0.89667892,\n",
       "         0.34508471,  0.05871677,  0.69721009, -1.03152312,  0.86909204,\n",
       "         0.99671453, -0.34372535,  0.81816544,  0.41560531, -0.06143908,\n",
       "        -1.09854717,  0.89747539, -0.50532956,  0.12894907, -0.63222573,\n",
       "        -0.14528926, -0.41828263,  0.17014924, -0.48101704,  0.36896002,\n",
       "         1.12566596, -0.24511298, -0.14108781,  1.42630975, -0.18327128,\n",
       "         0.22017425,  0.14402597,  0.40135381, -0.32561646, -0.97268283,\n",
       "        -0.70496099,  0.98514555,  1.06700565,  0.00581248,  0.68247853,\n",
       "        -1.18670587, -1.24793871,  0.44225872, -0.83544288, -1.1598855 ,\n",
       "         0.0728497 ,  1.00351989,  0.2756226 , -0.02317385, -0.12757359,\n",
       "         0.06063085, -1.48553431, -1.03031422, -1.05384822, -0.19064547,\n",
       "         1.11287083, -0.1840251 , -2.0864922 ,  0.43683636,  0.46517517,\n",
       "         0.58124251, -0.4756296 , -2.47037853, -0.80325985, -0.30346927,\n",
       "         1.00969604, -0.65848728,  1.12983411,  1.12889333,  1.07769689,\n",
       "        -0.36425215,  0.87748252,  1.01037197, -1.22050604,  0.82850148,\n",
       "         1.4049444 ,  0.8375636 , -0.68579126,  0.69534453,  1.14920554,\n",
       "         0.32960851,  1.29501105,  1.40887938,  2.08138276, -0.74536346,\n",
       "         1.25488369,  1.75194166, -0.34160772,  0.52117154,  1.63066568,\n",
       "        -0.14199054, -2.05053185,  0.58830753, -0.32915849, -0.53644978,\n",
       "         0.5848258 , -0.10655021, -0.27402125,  0.68439105, -0.64211047,\n",
       "        -0.01616337, -0.25182798, -0.63573256,  0.7084625 , -0.0718078 ]])"
      ]
     },
     "execution_count": 40,
     "metadata": {},
     "output_type": "execute_result"
    }
   ],
   "source": [
    "yvalues = np.random.normal(size =(1,120))\n",
    "yvalues\n"
   ]
  },
  {
   "cell_type": "markdown",
   "id": "a2c03b7e-0c03-4cbc-843f-c4212001298e",
   "metadata": {},
   "source": [
    "---\n",
    "\n",
    "### Exercise 40:\n",
    "Create a 4x4 matrix and extract the diagonal elements.\n",
    "\n",
    "```python\n",
    "# Exercise 40\n",
    "```"
   ]
  },
  {
   "cell_type": "code",
   "execution_count": 41,
   "id": "bad1adc0-6350-4530-8de2-9c7c32590015",
   "metadata": {},
   "outputs": [
    {
     "name": "stdout",
     "output_type": "stream",
     "text": [
      "[[59 47 79 97]\n",
      " [78 46 35 74]\n",
      " [26 96 44 42]\n",
      " [70 90 88 50]]\n"
     ]
    },
    {
     "data": {
      "text/plain": [
       "array([59, 46, 44, 50])"
      ]
     },
     "execution_count": 41,
     "metadata": {},
     "output_type": "execute_result"
    }
   ],
   "source": [
    "four_by_four = np.random.randint(10,100, size = (4,4))\n",
    "print(four_by_four)\n",
    "np.diag(four_by_four, 0)"
   ]
  },
  {
   "cell_type": "markdown",
   "id": "ed3220ca-fa0a-4469-a1f0-20b782ad0ba4",
   "metadata": {},
   "source": [
    "---\n",
    "\n",
    "### Exercise 41:\n",
    "Generate a NumPy array of 100 random values and clip the values to a range between 10 and 50.\n",
    "\n",
    "```python\n",
    "# Exercise 41\n",
    "```"
   ]
  },
  {
   "cell_type": "code",
   "execution_count": 42,
   "id": "0505b457-ee4f-4333-9b7d-db935b324e44",
   "metadata": {},
   "outputs": [
    {
     "data": {
      "text/plain": [
       "array([ 5,  8,  3,  0,  0,  3,  0,  7,  6,  7,  7, 11, 19, 17, 11,  3, 16,\n",
       "       22,  9, 20, 19,  5, 11, 30, 26,  3, 14, 20,  8,  1, 29, 30, 25,  0,\n",
       "       17, 25, 21, 32, 11,  2])"
      ]
     },
     "execution_count": 42,
     "metadata": {},
     "output_type": "execute_result"
    }
   ],
   "source": [
    "generate = np.random.randint(range(10,50))\n",
    "generate"
   ]
  },
  {
   "cell_type": "markdown",
   "id": "5ea085e8-b6aa-4234-b661-9e02f5fd5120",
   "metadata": {},
   "source": [
    "---\n",
    "\n",
    "### Exercise 42:\n",
    "Create a 2D NumPy array and replace all negative values with zero.\n",
    "\n",
    "```python\n",
    "# Exercise 42\n",
    "```"
   ]
  },
  {
   "cell_type": "code",
   "execution_count": 43,
   "id": "7585c3f7-7168-4714-8634-0ba4b8372a82",
   "metadata": {},
   "outputs": [
    {
     "name": "stdout",
     "output_type": "stream",
     "text": [
      "[[-2 -1]\n",
      " [ 0  1]]\n"
     ]
    },
    {
     "data": {
      "text/plain": [
       "array([], shape=(0, 1), dtype=float64)"
      ]
     },
     "execution_count": 43,
     "metadata": {},
     "output_type": "execute_result"
    }
   ],
   "source": [
    "twoD_array = np.array(range(-2,2)).reshape((2,2))\n",
    "print(twoD_array)\n",
    "np.zeros(twoD_array[1]) "
   ]
  },
  {
   "cell_type": "markdown",
   "id": "0131cea0-4fc0-4b41-ba9e-f257fb1b2c44",
   "metadata": {},
   "source": [
    "---\n",
    "\n",
    "### Exercise 43:\n",
    "Find the inner and outer products of two NumPy arrays.\n",
    "\n",
    "```python\n",
    "# Exercise 43\n",
    "```"
   ]
  },
  {
   "cell_type": "code",
   "execution_count": 56,
   "id": "534aa655-c9aa-421d-8852-c703886abb5e",
   "metadata": {},
   "outputs": [
    {
     "name": "stdout",
     "output_type": "stream",
     "text": [
      "[[ 85  99  97  71]\n",
      " [317 351 329 275]\n",
      " [549 603 561 479]\n",
      " [781 855 793 683]]\n",
      "[[  0   0   0   0   0   0   0   0   0   0   0   0   0   0   0   0]\n",
      " [ 15  13  18  12  13  16  19  15  12  11  19  16  16  12  10  13]\n",
      " [ 30  26  36  24  26  32  38  30  24  22  38  32  32  24  20  26]\n",
      " [ 45  39  54  36  39  48  57  45  36  33  57  48  48  36  30  39]\n",
      " [ 60  52  72  48  52  64  76  60  48  44  76  64  64  48  40  52]\n",
      " [ 75  65  90  60  65  80  95  75  60  55  95  80  80  60  50  65]\n",
      " [ 90  78 108  72  78  96 114  90  72  66 114  96  96  72  60  78]\n",
      " [105  91 126  84  91 112 133 105  84  77 133 112 112  84  70  91]\n",
      " [120 104 144  96 104 128 152 120  96  88 152 128 128  96  80 104]\n",
      " [135 117 162 108 117 144 171 135 108  99 171 144 144 108  90 117]\n",
      " [150 130 180 120 130 160 190 150 120 110 190 160 160 120 100 130]\n",
      " [165 143 198 132 143 176 209 165 132 121 209 176 176 132 110 143]\n",
      " [180 156 216 144 156 192 228 180 144 132 228 192 192 144 120 156]\n",
      " [195 169 234 156 169 208 247 195 156 143 247 208 208 156 130 169]\n",
      " [210 182 252 168 182 224 266 210 168 154 266 224 224 168 140 182]\n",
      " [225 195 270 180 195 240 285 225 180 165 285 240 240 180 150 195]]\n"
     ]
    }
   ],
   "source": [
    "C = np.arange(16).reshape((4,4))\n",
    "C\n",
    "F = np.random.randint(10,20, size = (4,4))\n",
    "F\n",
    "inner = np.inner(C,F)\n",
    "outer = np.outer(C,F)\n",
    "print(inner)\n",
    "print(outer)"
   ]
  },
  {
   "cell_type": "markdown",
   "id": "41d61594-a859-4da9-9c2b-230deec99051",
   "metadata": {},
   "source": [
    "---\n",
    "\n",
    "### Exercise 44:\n",
    "Calculate the pairwise distances between points in a NumPy array.\n",
    "\n",
    "```python\n",
    "# Exercise 44\n",
    "```"
   ]
  },
  {
   "cell_type": "code",
   "execution_count": 76,
   "id": "c41129cf-ad74-4240-a806-28faa6f2ae1e",
   "metadata": {},
   "outputs": [
    {
     "name": "stdout",
     "output_type": "stream",
     "text": [
      "[[0.         1.41421356 2.82842712 3.16227766]\n",
      " [1.41421356 0.         3.16227766 2.82842712]\n",
      " [2.82842712 3.16227766 0.         1.41421356]\n",
      " [3.16227766 2.82842712 1.41421356 0.        ]]\n"
     ]
    }
   ],
   "source": [
    "points = np.array([[0, 1], [1, 0], [2, 3], [3, 2]])\n",
    "\n",
    "differences = points[:, np.newaxis, :] - points[np.newaxis, :, :]\n",
    "distances = np.sqrt(np.sum(differences ** 2, axis=-1))\n",
    "\n",
    "print(distances)\n"
   ]
  },
  {
   "cell_type": "markdown",
   "id": "85f8163a-468c-42f8-866e-73c69636e664",
   "metadata": {},
   "source": [
    "---\n",
    "\n",
    "### Exercise 45:\n",
    "Create a structured NumPy array with fields for `name`, `age`, and `height`.\n",
    "\n",
    "```python\n",
    "# Exercise 45\n",
    "```"
   ]
  },
  {
   "cell_type": "code",
   "execution_count": 58,
   "id": "b027423f-7ba9-4513-a5b9-52616a806df5",
   "metadata": {},
   "outputs": [
    {
     "data": {
      "text/plain": [
       "array([('Moreen', 24, 154.), ('Jane', 27, 176.), ('Too', 30, 156.)],\n",
       "      dtype=[('name', '<U10'), ('age', '<i4'), ('weight', '<f8')])"
      ]
     },
     "execution_count": 58,
     "metadata": {},
     "output_type": "execute_result"
    }
   ],
   "source": [
    "student = np.array([('Moreen', 24, 154), ('Jane', 27,176), ('Too', 30,156)],\n",
    "                   dtype = [('name',(np.str_,10)), ('age',np.int32), ('weight',np.float64)])\n",
    "student "
   ]
  },
  {
   "cell_type": "markdown",
   "id": "e745b343-43d6-4225-94cc-f38eb301e6f0",
   "metadata": {},
   "source": [
    "---\n",
    "\n",
    "### Exercise 46:\n",
    "Create a 5x5 matrix of random integers and count the occurrences of each unique value.\n",
    "\n",
    "```python\n",
    "# Exercise 46\n",
    "```"
   ]
  },
  {
   "cell_type": "code",
   "execution_count": null,
   "id": "92c97321-fe16-4f01-ba82-8c34174291b0",
   "metadata": {},
   "outputs": [],
   "source": [
    "five = np.random.randint(5,40, size=(5,5))\n",
    "print(five) \n",
    "np.unique(five)"
   ]
  },
  {
   "cell_type": "markdown",
   "id": "cc2a931b-4c46-4af1-8614-ebec79c69878",
   "metadata": {},
   "source": [
    "---\n",
    "\n",
    "### Exercise 47:\n",
    "Generate a random 3x3 NumPy array and subtract the mean of each row from the corresponding row.\n",
    "\n",
    "```python\n",
    "# Exercise 47\n",
    "```"
   ]
  },
  {
   "cell_type": "code",
   "execution_count": null,
   "id": "dbac609a-e1c4-4012-b210-a984abe1de0d",
   "metadata": {},
   "outputs": [],
   "source": [
    "three_m = np.random.randint(1,15, size = (3,3))\n",
    "print(three_m)\n",
    "mean = np.mean(three_m)\n",
    "print(mean)\n",
    "x_mean = np.subtract(three_m, mean)\n",
    "print(x_mean)"
   ]
  },
  {
   "cell_type": "markdown",
   "id": "c934e2c7-aea0-47ab-8198-8ab4ccd36aed",
   "metadata": {},
   "source": [
    "---\n",
    "\n",
    "### Exercise 48:\n",
    "Create a NumPy array of random integers and check if any of the values are greater than 50.\n",
    "\n",
    "```python\n",
    "# Exercise 48\n",
    "```"
   ]
  },
  {
   "cell_type": "code",
   "execution_count": null,
   "id": "b20b4c18-d571-4cbd-8e6f-923be2dfe12f",
   "metadata": {},
   "outputs": [],
   "source": [
    "num1 = np.random.randint(1,100, size = 20)\n",
    "num1 \n",
    "n= 50\n",
    "i = 1\n",
    "if num1[i] > n:\n",
    "    print(\"greater than 50\")\n",
    "else:\n",
    "    print(\"Less than 50\")\n"
   ]
  },
  {
   "cell_type": "markdown",
   "id": "8b1a3a68-6e4b-4b49-83a2-70f29b63ba1f",
   "metadata": {},
   "source": [
    "---\n",
    "\n",
    "### Exercise 49:\n",
    "Calculate the moving average of a 1D NumPy array.\n",
    "\n",
    "```python\n",
    "# Exercise 49\n",
    "```"
   ]
  },
  {
   "cell_type": "code",
   "execution_count": 75,
   "id": "1b2d6496-dd21-4c52-8867-e4a91f60ef11",
   "metadata": {},
   "outputs": [
    {
     "name": "stdout",
     "output_type": "stream",
     "text": [
      "[10 11 12 13 14 15 16 17 18 19 20 21 22 23 24 25 26 27 28]\n",
      "19.0\n"
     ]
    },
    {
     "data": {
      "text/plain": [
       "19.0"
      ]
     },
     "execution_count": 75,
     "metadata": {},
     "output_type": "execute_result"
    }
   ],
   "source": [
    "f = np.arange(10,29)\n",
    "print(f)\n",
    "mean = np.mean(f)\n",
    "print(mean)\n",
    "np.ma.average(f)#, axis = 0, weights = 2 )\n"
   ]
  },
  {
   "cell_type": "markdown",
   "id": "4a0c1b19-f15b-4c6a-9782-ffe7dd4fe1db",
   "metadata": {},
   "source": [
    "---\n",
    "\n",
    "### Exercise 50:\n",
    "Find the Pearson correlation coefficient between two NumPy arrays.\n",
    "\n",
    "```python\n",
    "# Exercise 50\n",
    "```"
   ]
  },
  {
   "cell_type": "code",
   "execution_count": null,
   "id": "f7807956-995c-46d6-b405-827131eaa37a",
   "metadata": {},
   "outputs": [],
   "source": [
    "x_1 = np.linspace(13,100)\n",
    "print(\"First List<\", x_1)\n",
    "x_2 = np.linspace(10,150)\n",
    "print(\"Second list\", x_2)\n",
    "pearson = np.corrcoef(x_1,x_2)\n",
    "print(pearson)"
   ]
  },
  {
   "cell_type": "markdown",
   "id": "22c100f6-3133-4a32-85b9-95a8bb2cd0bc",
   "metadata": {},
   "source": [
    "---\n",
    "\n",
    "### Exercise 51:\n",
    "Convert a NumPy array of radians to degrees.\n",
    "\n",
    "```python\n",
    "# Exercise 51\n",
    "```"
   ]
  },
  {
   "cell_type": "code",
   "execution_count": null,
   "id": "cebede9c-2575-40bf-8abc-5aa396531059",
   "metadata": {},
   "outputs": [],
   "source": [
    "radian = 2.12\n",
    "degree = np.degrees(radian)\n",
    "degree"
   ]
  },
  {
   "cell_type": "markdown",
   "id": "ae9cd859-a895-4e28-b349-49ffcbfa6616",
   "metadata": {},
   "source": [
    "---\n",
    "\n",
    "### Exercise 52:\n",
    "Create a random NumPy array and compute its variance and standard deviation.\n",
    "\n",
    "```python\n",
    "# Exercise 52\n",
    "```"
   ]
  },
  {
   "cell_type": "code",
   "execution_count": null,
   "id": "53997ba5-e94a-4274-b6c4-a24f36bd689f",
   "metadata": {},
   "outputs": [],
   "source": [
    "sampl = np.random.randint(25,50,size = 20)\n",
    "sampl\n",
    "mean= np.mean(sampl)\n",
    "print(mean)\n",
    "var = np.var(sampl)\n",
    "print(var)"
   ]
  },
  {
   "cell_type": "markdown",
   "id": "2c7c7e36-7126-498f-b2e2-1a36f5736b63",
   "metadata": {},
   "source": [
    "---\n",
    "\n",
    "### Exercise 53:\n",
    "Create a 2D NumPy array and find the indices of the maximum values along each axis.\n",
    "\n",
    "```python\n",
    "# Exercise 53\n",
    "```"
   ]
  },
  {
   "cell_type": "code",
   "execution_count": null,
   "id": "84edcb74-7951-4fa3-8d01-907455983c83",
   "metadata": {},
   "outputs": [],
   "source": [
    "H = np.random.randint(1,12, size = (2,2))\n",
    "print(H)\n",
    "row_max = np.max(H, axis =1)\n",
    "col_max = np.max(H, axis =0)\n",
    "print(\"Maximum in row,\",row_max)\n",
    "print(\"Maximum in Colunms,\",col_max)"
   ]
  },
  {
   "cell_type": "markdown",
   "id": "c9b5bd5b-1cc7-4e36-91f1-50021c292cce",
   "metadata": {},
   "source": [
    "---\n",
    "\n",
    "### Exercise 54:\n",
    "Compute the inverse of a 2x2 NumPy matrix.\n",
    "\n",
    "```python\n",
    "# Exercise 54\n",
    "```"
   ]
  },
  {
   "cell_type": "code",
   "execution_count": null,
   "id": "3da46523-d54e-48c7-a867-e62c60a51f3b",
   "metadata": {},
   "outputs": [],
   "source": [
    "g = np.random.randint( 10,20, size =(2,2))\n",
    "g\n",
    "np.linalg.inv(g)"
   ]
  },
  {
   "cell_type": "markdown",
   "id": "5d9e439c-3dac-4d26-947e-e3d84c4458b4",
   "metadata": {},
   "source": [
    "---\n",
    "\n",
    "### Exercise 55:\n",
    "Create a NumPy array of 10 random values and standardize it (mean 0, variance 1).\n",
    "\n",
    "```python\n",
    "# Exercise 55\n",
    "```"
   ]
  },
  {
   "cell_type": "code",
   "execution_count": null,
   "id": "3034dc27-5169-43b0-b1d4-3ed366e4fa19",
   "metadata": {},
   "outputs": [],
   "source": [
    "random_arr = np.random.randint(1,10,size =10)\n",
    "print(random_arr )\n",
    "average = np.mean(random_arr, axis = 0)\n",
    "print(average)\n",
    "stand = np.std(random_arr, axis = 0)\n",
    "print(stand)\n",
    "stand_ran = (random_arr -(average))/stand\n",
    "np.mean(stand_ran, axis = 0)\n",
    "np.std(stand_ran, axis = 0)\n",
    "#XNormed = (X - np.mean(X, axis=0))/np.std(X, axis=0)\n",
    "#column_mean = np.mean(XNormed, axis=0)\n",
    "#print(column_mean)"
   ]
  },
  {
   "cell_type": "markdown",
   "id": "332646bd-468b-48be-b949-45643272b30e",
   "metadata": {},
   "source": [
    "---\n",
    "\n",
    "### Exercise 56:\n",
    "Perform element-wise addition and subtraction on two NumPy arrays.\n",
    "\n",
    "```python\n",
    "# Exercise 56\n",
    "```\n",
    "\n",
    "---"
   ]
  },
  {
   "cell_type": "code",
   "execution_count": null,
   "id": "1365d091-a6cb-404f-b67b-e5fb335e2192",
   "metadata": {},
   "outputs": [],
   "source": [
    "r_1 = np.random.randint(19,29, size = 6)\n",
    "print(\"First array\", r_1)\n",
    "r_2 = np.random.randint(23,33,size = 6)\n",
    "print(\"Second array \", r_2)\n",
    "sum_1= np.add(r_1,r_2)\n",
    "print(\"The sum of the two array is\", sum_1)"
   ]
  },
  {
   "cell_type": "markdown",
   "id": "34e7b3e7-bfed-4551-8a30-efa4c9020fcb",
   "metadata": {},
   "source": [
    "### Exercise 57:\n",
    "Create a NumPy array of random values and find the maximum element's index.\n",
    "\n",
    "```python\n",
    "# Exercise 57\n",
    "```"
   ]
  },
  {
   "cell_type": "code",
   "execution_count": null,
   "id": "edd7681a-39d6-4de5-9514-7fcf4bcd5401",
   "metadata": {},
   "outputs": [],
   "source": [
    "number_1 = np.arange(10,19)\n",
    "print(number_1)\n",
    "print(np.max(number_1))\n",
    "maxindex = np.argmax(number_1)\n",
    "print(maxindex)\n"
   ]
  },
  {
   "cell_type": "markdown",
   "id": "3f54a793-8f01-488a-ae9b-e5a13b58129d",
   "metadata": {},
   "source": [
    "---\n",
    "\n",
    "### Exercise 58:\n",
    "Create a 3x3 NumPy array and rotate it by 90 degrees.\n",
    "\n",
    "```python\n",
    "# Exercise 58\n",
    "```"
   ]
  },
  {
   "cell_type": "code",
   "execution_count": null,
   "id": "1e74bbf8-7ce2-4fc8-9b9b-ea52ae82a613",
   "metadata": {},
   "outputs": [],
   "source": [
    "r = np.random.randint(2,12, size =(3,3))\n",
    "print(r)\n",
    "np.rot90(r)"
   ]
  },
  {
   "cell_type": "markdown",
   "id": "12eb8f97-820c-4021-b2e4-86e7c9431179",
   "metadata": {},
   "source": [
    "---\n",
    "\n",
    "### Exercise 59:\n",
    "Compute the Frobenius norm of a matrix.\n",
    "\n",
    "```python\n",
    "# Exercise 59\n",
    "```\n",
    "\n",
    "---"
   ]
  },
  {
   "cell_type": "code",
   "execution_count": null,
   "id": "9676dc9a-8ac2-4134-9e3b-7e4624d667c1",
   "metadata": {},
   "outputs": [],
   "source": [
    "from numpy import linalg\n",
    "M = np.random.randint(10,20 ,size = (2,2))\n",
    "M_1 =linalg.norm(M)\n",
    "M_1"
   ]
  },
  {
   "cell_type": "markdown",
   "id": "3d3f0dd4-3872-4cf0-aef0-47f701312c21",
   "metadata": {},
   "source": [
    "### Exercise 60:\n",
    "Create a 3D NumPy array and slice out a subarray.\n",
    "\n",
    "```python\n",
    "# Exercise 60\n",
    "```\n",
    "\n",
    "---"
   ]
  },
  {
   "cell_type": "code",
   "execution_count": null,
   "id": "bc71ac73-09b5-42ba-b853-b9410862bec1",
   "metadata": {},
   "outputs": [],
   "source": [
    "Three = np.arange(9).reshape((3,3))\n",
    "Three\n",
    "np.split(Three, 3)"
   ]
  },
  {
   "cell_type": "code",
   "execution_count": null,
   "id": "2e92960a-71d1-471c-9341-a8f10903730f",
   "metadata": {},
   "outputs": [],
   "source": []
  }
 ],
 "metadata": {
  "kernelspec": {
   "display_name": "Python 3 (ipykernel)",
   "language": "python",
   "name": "python3"
  },
  "language_info": {
   "codemirror_mode": {
    "name": "ipython",
    "version": 3
   },
   "file_extension": ".py",
   "mimetype": "text/x-python",
   "name": "python",
   "nbconvert_exporter": "python",
   "pygments_lexer": "ipython3",
   "version": "3.12.4"
  }
 },
 "nbformat": 4,
 "nbformat_minor": 5
}
