{
 "cells": [
  {
   "cell_type": "markdown",
   "id": "abe0acab-27b9-4634-b074-38b8da561f79",
   "metadata": {},
   "source": [
    "1. Compute the following expressions for a natural number n chosen by the user:\n",
    "\n",
    "\\begin{equation}\n",
    "\\sum_{i=0}^{n-1}(i+3)\n",
    "\\end{equation}\n",
    "\n",
    "\\begin{equation}\n",
    "\\prod_{i=0}^{n=1}(i+3)\n",
    "\\end{equation}"
   ]
  },
  {
   "cell_type": "code",
   "execution_count": 1,
   "id": "065f5bb1-118b-4043-9d79-bc28db06ac48",
   "metadata": {},
   "outputs": [
    {
     "name": "stdin",
     "output_type": "stream",
     "text": [
      "Enter a natural number n: 4\n"
     ]
    },
    {
     "name": "stdout",
     "output_type": "stream",
     "text": [
      "10\n"
     ]
    }
   ],
   "source": [
    "n = int(input(\"Enter a natural number n:\"))\n",
    "sum = 0\n",
    "for i in range(n):\n",
    "    if i % 2 != 0:\n",
    "        sum = sum + i + 3 \n",
    "print(sum)\n"
   ]
  },
  {
   "cell_type": "code",
   "execution_count": 2,
   "id": "c5a669a6-e8ef-451f-bb62-f6a4066dee6e",
   "metadata": {},
   "outputs": [
    {
     "name": "stdin",
     "output_type": "stream",
     "text": [
      "Enter a natural number n: 4\n"
     ]
    },
    {
     "name": "stdout",
     "output_type": "stream",
     "text": [
      "15\n"
     ]
    }
   ],
   "source": [
    "n = int(input(\"Enter a natural number n:\"))\n",
    "prod = 1\n",
    "for i in range(n):\n",
    "    if i % 2 == 0:\n",
    "        prod = prod * (i + 3) \n",
    "print(prod)\n"
   ]
  },
  {
   "cell_type": "code",
   "execution_count": 3,
   "id": "33d5f6ba-ce2d-4f1d-a294-f0056643e1d6",
   "metadata": {},
   "outputs": [
    {
     "name": "stdout",
     "output_type": "stream",
     "text": [
      "0\n",
      "1\n",
      "2\n",
      "3\n"
     ]
    }
   ],
   "source": [
    "for i in range(4):\n",
    "    print(i)"
   ]
  },
  {
   "cell_type": "markdown",
   "id": "cbb40139-f21c-42a9-9676-2ba7632bd0c4",
   "metadata": {},
   "source": [
    "2 .Write a program that reads the number of the day of the week (from 0 to 6). If it is a\n",
    "working day, then the program will write the name of the corresponding day. Otherwise,\n",
    "it will write the word \"Weekend\"."
   ]
  },
  {
   "cell_type": "code",
   "execution_count": 4,
   "id": "640b7775-dc2f-4adb-a983-dbb0491d86fa",
   "metadata": {},
   "outputs": [
    {
     "name": "stdin",
     "output_type": "stream",
     "text": [
      "Enter a number to represent a day:  5\n"
     ]
    },
    {
     "name": "stdout",
     "output_type": "stream",
     "text": [
      "invalid\n"
     ]
    }
   ],
   "source": [
    "day = int(input(\"Enter a number to represent a day: \"))\n",
    "\n",
    "if day == 0:\n",
    "    print(\"Monday\")\n",
    "elif day == 1:\n",
    "    print(\"Tuesday\")\n",
    "elif day == 2:\n",
    "    print(\"Wednesday\")\n",
    "elif day == 3:\n",
    "    print(\"Thursday\")\n",
    "elif day == 4:\n",
    "    print(\"Friday\")\n",
    "elif day == 6 and day == 0:\n",
    "    prnt(\"Weekend\")\n",
    "else:\n",
    "    print(\"invalid\")"
   ]
  },
  {
   "cell_type": "markdown",
   "id": "2b7d5689-484a-4926-9636-8bb59b6b0ed8",
   "metadata": {},
   "source": [
    "3. Make a program that, given a month number (from 0 to 11), indicates how many days it\r\n",
    "has (28, 30 or 31), ignoring the leap years."
   ]
  },
  {
   "cell_type": "code",
   "execution_count": 5,
   "id": "a7b3b3f7-c14d-4837-a5b1-f2fb0593a83b",
   "metadata": {},
   "outputs": [
    {
     "name": "stdin",
     "output_type": "stream",
     "text": [
      "Enter a number between 0 and 11: 8\n"
     ]
    },
    {
     "name": "stdout",
     "output_type": "stream",
     "text": [
      "These months has 30 days\n"
     ]
    }
   ],
   "source": [
    "month = int(input(\"Enter a number between 0 and 11:\"))\n",
    "\n",
    "if (month == 0 or month == 3 or month == 5 or month == 8 or month == 10):\n",
    "    print(\"These months has 30 days\")\n",
    "elif (month == 2 or month == 4 or month == 6 or month == 7 or month == 9 or month == 11):\n",
    "    print(\"These months has 31 days\")\n",
    "elif (month == 1):\n",
    "    print(\"This month has 28 days\")\n",
    "else:\n",
    "    print(\"invalid\")\n"
   ]
  },
  {
   "cell_type": "markdown",
   "id": "bfa30812-44bc-417e-bd57-1cad372815c1",
   "metadata": {},
   "source": [
    "4. Write two versions of python code that displays your name 3 times. One version with a\n",
    "\"for loop\" and another version with a \"while loop\"."
   ]
  },
  {
   "cell_type": "code",
   "execution_count": 6,
   "id": "e6fb5dd4-9a7e-4882-8339-51c70c85bbe4",
   "metadata": {},
   "outputs": [
    {
     "name": "stdout",
     "output_type": "stream",
     "text": [
      "Moreen\n",
      "Moreen\n",
      "Moreen\n"
     ]
    }
   ],
   "source": [
    "n = 'Moreen'\n",
    "for i in range(3):\n",
    "    print(n)"
   ]
  },
  {
   "cell_type": "code",
   "execution_count": 7,
   "id": "09f5d7dc-9ab3-4f5f-b337-f07fbc7fcec7",
   "metadata": {},
   "outputs": [
    {
     "name": "stdout",
     "output_type": "stream",
     "text": [
      "Moreen\n",
      "Moreen\n",
      "Moreen\n"
     ]
    }
   ],
   "source": [
    "n = 'Moreen'\n",
    "i = 0\n",
    "while (i < 3):\n",
    "      print(\"Moreen\")\n",
    "      i = i + 1\n",
    "     \n"
   ]
  },
  {
   "cell_type": "markdown",
   "id": "b729244c-3b7e-47ac-b8fa-f29939e3fa01",
   "metadata": {},
   "source": [
    "5. Given two numbers a0 and a1, the Fibonacci sequence they generate is constructed from\n",
    "the recursion formula $a_{n+1} = a_{n} + a_{n−1}$. Calculate the first 15 terms of a Fibonacci\n",
    "sequence, asking the user the initial values."
   ]
  },
  {
   "cell_type": "code",
   "execution_count": 8,
   "id": "bee8ff4c-b52a-4d32-bf8b-d9ff440b5aed",
   "metadata": {},
   "outputs": [
    {
     "name": "stdin",
     "output_type": "stream",
     "text": [
      "Enter a first number a_0: 1\n",
      "Enter a second number a_1: 1\n"
     ]
    },
    {
     "name": "stdout",
     "output_type": "stream",
     "text": [
      "2\n",
      "3\n",
      "5\n",
      "8\n",
      "13\n",
      "21\n",
      "34\n",
      "55\n",
      "89\n",
      "144\n",
      "233\n",
      "377\n",
      "610\n",
      "987\n",
      "1597\n",
      "2584\n"
     ]
    }
   ],
   "source": [
    "a_0 = int(input(\"Enter a first number a_0:\"))\n",
    "a_1 = int(input(\"Enter a second number a_1:\"))\n",
    "\n",
    "a_n = 0\n",
    "for i in range(16):\n",
    "    a_n = a_0 + a_1\n",
    "    print(a_n)\n",
    "    a_0 = a_1\n",
    "    a_1 = a_n"
   ]
  },
  {
   "cell_type": "markdown",
   "id": "6427ea14-b1f5-4d82-83d8-80c9cf557ab1",
   "metadata": {},
   "source": [
    "6. Compute the first 30 terms of the sequence defined by $2x_{n+2} − x_{n+1} − 6x_{n} = 0$ sequence,\n",
    "given any two initial values x0 and x1"
   ]
  },
  {
   "cell_type": "code",
   "execution_count": 9,
   "id": "1bbca19c-a779-405b-ab39-1a566e996a36",
   "metadata": {},
   "outputs": [],
   "source": [
    "x_0 = 1\n",
    "x_1 = 2\n",
    "\n",
    "x_2 = 0\n",
    "for i in range(31):\n",
    "    if 2*x_2 - x_1 - 6*x_0 == 0:\n",
    "        print(i)\n",
    "    \n",
    "    \n",
    "    "
   ]
  },
  {
   "cell_type": "markdown",
   "id": "1908c73c-a689-4791-abe0-b4fb4625cc11",
   "metadata": {},
   "source": [
    "7. a) Write python code to determine whether or not a year is a leap year. Be sure you\n",
    "know what a leap year is."
   ]
  },
  {
   "cell_type": "code",
   "execution_count": 10,
   "id": "31b9ea71-8ad1-4e5c-a222-d1a52b24a7dc",
   "metadata": {},
   "outputs": [
    {
     "name": "stdin",
     "output_type": "stream",
     "text": [
      "Enter any year: 1996\n"
     ]
    },
    {
     "name": "stdout",
     "output_type": "stream",
     "text": [
      "1996 is a leap year\n"
     ]
    }
   ],
   "source": [
    "leap = int(input(\"Enter any year:\"))\n",
    "\n",
    "#ly = []\n",
    "\n",
    "#for year in range(1000, 2001):\n",
    "if  (leap % 4 == 0 and leap % 100 != 0 ) or leap % 400 == 0 :\n",
    "        #ly.append(year)\n",
    "           print(\"{} is a leap year\".format(leap))\n",
    "else:\n",
    "           print(\"{} is not a leap year\".format(leap))\n",
    "    \n",
    "#print(ly)"
   ]
  },
  {
   "cell_type": "markdown",
   "id": "035e625b-72bc-4240-9c27-b8df64df13ec",
   "metadata": {},
   "source": [
    "b) Write the code using only logical operators, i.e. no conditional branching."
   ]
  },
  {
   "cell_type": "code",
   "execution_count": 11,
   "id": "e8e5b3c5-7dfd-4382-8870-e1b597824734",
   "metadata": {},
   "outputs": [
    {
     "name": "stdout",
     "output_type": "stream",
     "text": [
      "[1004, 1008, 1012, 1016, 1020, 1024, 1028, 1032, 1036, 1040, 1044, 1048, 1052, 1056, 1060, 1064, 1068, 1072, 1076, 1080, 1084, 1088, 1092, 1096, 1104, 1108, 1112, 1116, 1120, 1124, 1128, 1132, 1136, 1140, 1144, 1148, 1152, 1156, 1160, 1164, 1168, 1172, 1176, 1180, 1184, 1188, 1192, 1196, 1200, 1204, 1208, 1212, 1216, 1220, 1224, 1228, 1232, 1236, 1240, 1244, 1248, 1252, 1256, 1260, 1264, 1268, 1272, 1276, 1280, 1284, 1288, 1292, 1296, 1304, 1308, 1312, 1316, 1320, 1324, 1328, 1332, 1336, 1340, 1344, 1348, 1352, 1356, 1360, 1364, 1368, 1372, 1376, 1380, 1384, 1388, 1392, 1396, 1404, 1408, 1412, 1416, 1420, 1424, 1428, 1432, 1436, 1440, 1444, 1448, 1452, 1456, 1460, 1464, 1468, 1472, 1476, 1480, 1484, 1488, 1492, 1496, 1504, 1508, 1512, 1516, 1520, 1524, 1528, 1532, 1536, 1540, 1544, 1548, 1552, 1556, 1560, 1564, 1568, 1572, 1576, 1580, 1584, 1588, 1592, 1596, 1600, 1604, 1608, 1612, 1616, 1620, 1624, 1628, 1632, 1636, 1640, 1644, 1648, 1652, 1656, 1660, 1664, 1668, 1672, 1676, 1680, 1684, 1688, 1692, 1696, 1704, 1708, 1712, 1716, 1720, 1724, 1728, 1732, 1736, 1740, 1744, 1748, 1752, 1756, 1760, 1764, 1768, 1772, 1776, 1780, 1784, 1788, 1792, 1796, 1804, 1808, 1812, 1816, 1820, 1824, 1828, 1832, 1836, 1840, 1844, 1848, 1852, 1856, 1860, 1864, 1868, 1872, 1876, 1880, 1884, 1888, 1892, 1896, 1904, 1908, 1912, 1916, 1920, 1924, 1928, 1932, 1936, 1940, 1944, 1948, 1952, 1956, 1960, 1964, 1968, 1972, 1976, 1980, 1984, 1988, 1992, 1996, 2000]\n"
     ]
    }
   ],
   "source": [
    "leap_years = [year for year in range(1000, 2001) if (year % 4 == 0 and year % 100 != 0) or (year % 400 == 0)]\n",
    "\n",
    "print(leap_years)"
   ]
  },
  {
   "cell_type": "markdown",
   "id": "5e0454f6-a382-4d32-bcce-97dead54939f",
   "metadata": {},
   "source": [
    "8. a) Write python code that computes the sum of the square of the first n natural numbers.\n",
    "One version with a \"for loop\" and another version with a \"while loop\"."
   ]
  },
  {
   "cell_type": "code",
   "execution_count": 12,
   "id": "3e1e336a-4abc-4a39-8495-2c8a6ccd5a72",
   "metadata": {},
   "outputs": [
    {
     "name": "stdout",
     "output_type": "stream",
     "text": [
      "285\n"
     ]
    }
   ],
   "source": [
    "m =10\n",
    "sum_sqrt= 0\n",
    "for i in range(m):\n",
    "    square = i*i\n",
    "    sum_sqrt= sum_sqrt + square \n",
    "print(sum_sqrt)\n",
    "    \n"
   ]
  },
  {
   "cell_type": "code",
   "execution_count": 13,
   "id": "63f0b013-f74f-4044-9592-fb852b6d733c",
   "metadata": {},
   "outputs": [
    {
     "name": "stdout",
     "output_type": "stream",
     "text": [
      "506\n"
     ]
    }
   ],
   "source": [
    "sum_sq = 0 \n",
    "i =0\n",
    "while ( i <= 11 ):\n",
    "    squr = i**2\n",
    "    sum_sq = sum_sq + squr \n",
    "    i = i+1\n",
    "\n",
    "print(sum_sq)\n",
    " "
   ]
  },
  {
   "cell_type": "markdown",
   "id": "97f4ead8-01a9-4cc5-987b-3af91f5685ba",
   "metadata": {},
   "source": [
    "b) Write python code that prints, for a natural number M, the smallest natural number\n",
    "n such that $1^2+2^2+· · ·+n^2 ≥ M$. One version with a \"for loop\" and another version\n",
    "with a \"while loop\"."
   ]
  },
  {
   "cell_type": "code",
   "execution_count": 14,
   "id": "0a27d162-af35-4949-a9a0-5f2237626375",
   "metadata": {},
   "outputs": [
    {
     "name": "stdin",
     "output_type": "stream",
     "text": [
      "Enter a large number : 9\n"
     ]
    },
    {
     "name": "stdout",
     "output_type": "stream",
     "text": [
      "3\n"
     ]
    }
   ],
   "source": [
    "M = int(input(\"Enter a large number :\"))\n",
    "#n = int(input(\"Enter a small number a_1:\"))\n",
    "\n",
    "sum = 0\n",
    "for i in range(1, M+1):\n",
    "    sum = sum + i ** 2\n",
    "    if sum >= M:\n",
    "       break       \n",
    "print(i)"
   ]
  },
  {
   "cell_type": "code",
   "execution_count": 15,
   "id": "5bc2bbf1-e845-4ecc-bc1d-2509b169f63d",
   "metadata": {},
   "outputs": [
    {
     "name": "stdin",
     "output_type": "stream",
     "text": [
      "Enter a large number : 9\n"
     ]
    },
    {
     "name": "stdout",
     "output_type": "stream",
     "text": [
      "3\n"
     ]
    }
   ],
   "source": [
    "M = int(input(\"Enter a large number :\"))\n",
    "#n = int(input(\"Enter a small number a_1:\"))\n",
    "\n",
    "sumwhile = 0\n",
    "while( i <= M):\n",
    "    sumwhile = sumwhile + i**2\n",
    "    if sumwhile <= M:\n",
    "       break \n",
    "    i = i + 1 \n",
    "print(i)\n"
   ]
  },
  {
   "cell_type": "markdown",
   "id": "c5c0f393-fcf0-4fed-b5c3-95bcd0773b17",
   "metadata": {},
   "source": [
    "b) Read an integer number input by the user and calculate its prime factors. This will\n",
    "just be some of its divisors."
   ]
  },
  {
   "cell_type": "code",
   "execution_count": 16,
   "id": "3eb28505-ef6d-4e09-9d38-426d924ae155",
   "metadata": {},
   "outputs": [
    {
     "name": "stdin",
     "output_type": "stream",
     "text": [
      "Enter integer number :  60\n"
     ]
    },
    {
     "name": "stdout",
     "output_type": "stream",
     "text": [
      "[2, 2, 3, 5]\n"
     ]
    }
   ],
   "source": [
    "p =int(input(\"Enter integer number : \"))\n",
    "primes= []  \n",
    "while p % 2 == 0:  \n",
    "    primes.append(2)  \n",
    "    p //= 2 \n",
    "for i in range(3, int(p**0.5) + 1, 2):  \n",
    "    while p % i == 0:  \n",
    "        primes.append(i)  \n",
    "        p //= i  \n",
    "        \n",
    "if p > 2:  \n",
    "    primes.append(p)  \n",
    "print(primes)    "
   ]
  },
  {
   "cell_type": "code",
   "execution_count": null,
   "id": "8be0a570-16b3-4fe4-88fc-ce0fff243a14",
   "metadata": {},
   "outputs": [],
   "source": []
  },
  {
   "cell_type": "markdown",
   "id": "c5105876-cbe3-4aaa-8ece-a5388ce1a202",
   "metadata": {},
   "source": [
    "10. Read an integer number between n 0 and 9 and print its multiplication table up to N\n",
    "where N is another another natural number read by the program."
   ]
  },
  {
   "cell_type": "code",
   "execution_count": 17,
   "id": "78464056-1fdd-4d3a-9871-ef8bbd7990b5",
   "metadata": {},
   "outputs": [
    {
     "name": "stdin",
     "output_type": "stream",
     "text": [
      "Enter a number between 0 and 9: 8\n",
      "Enter a max number for multiplication 8\n"
     ]
    },
    {
     "name": "stdout",
     "output_type": "stream",
     "text": [
      "1 * 8 = 8\n",
      "2 * 8 = 16\n",
      "3 * 8 = 24\n",
      "4 * 8 = 32\n",
      "5 * 8 = 40\n",
      "6 * 8 = 48\n",
      "7 * 8 = 56\n",
      "8 * 8 = 64\n"
     ]
    }
   ],
   "source": [
    "nums = int(input(\"Enter a number between 0 and 9:\"))\n",
    "N =int(input(\"Enter a max number for multiplication\"))\n",
    "\n",
    "for nums in range(1,N+1):\n",
    "    multiple = nums * N\n",
    "    print(\"{0} * {1} = {2}\".format(nums,N,multiple))\n",
    "    \n",
    "\n",
    " #for i in range(1, N + 1):\n",
    "    #print(f\"{n} * {i} = {n * i}\")             "
   ]
  },
  {
   "cell_type": "markdown",
   "id": "fc2d18e4-3bad-4bc4-8ece-37c899ea0138",
   "metadata": {},
   "source": [
    "11.Write a program that prints all the numbers between 0 and 40 that are multiples of 3, 7\n",
    "or 11."
   ]
  },
  {
   "cell_type": "code",
   "execution_count": 18,
   "id": "c9c5b939-1f8c-409a-b513-3ad6c842b255",
   "metadata": {},
   "outputs": [
    {
     "name": "stdout",
     "output_type": "stream",
     "text": [
      "0\n",
      "3\n",
      "6\n",
      "7\n",
      "9\n",
      "11\n",
      "12\n",
      "14\n",
      "15\n",
      "18\n",
      "21\n",
      "22\n",
      "24\n",
      "27\n",
      "28\n",
      "30\n",
      "33\n",
      "35\n",
      "36\n",
      "39\n"
     ]
    }
   ],
   "source": [
    "for number in range(0,40):  \n",
    "    if (number % 3 == 0 or number % 7 == 0 or number % 11 == 0):\n",
    "        print( number)\n",
    "    \n"
   ]
  },
  {
   "cell_type": "markdown",
   "id": "6480760d-4ede-46fa-aaa9-07fedf63e9f6",
   "metadata": {},
   "source": [
    "Write python code that prints the floor of a float x. Recall that the floor of a float x is the\n",
    "largest integer value less than or equal to x, i.e. if $E[x]$ is the floor of x, then it satisfies,\n",
    "$E[x] = 1 + E[x − 1]$"
   ]
  },
  {
   "cell_type": "code",
   "execution_count": 19,
   "id": "5794eb96-2f0e-4f17-8566-930fb09a5626",
   "metadata": {},
   "outputs": [
    {
     "name": "stdin",
     "output_type": "stream",
     "text": [
      "Enter a number: 78.09\n"
     ]
    },
    {
     "name": "stdout",
     "output_type": "stream",
     "text": [
      "78\n"
     ]
    }
   ],
   "source": [
    "import math \n",
    "x = float(input(\"Enter a number:\"))\n",
    "xfloor = math.floor(x)\n",
    "print(xfloor)\n"
   ]
  },
  {
   "cell_type": "markdown",
   "id": "79eec874-05b3-4567-a38e-652a3e6cb1c1",
   "metadata": {},
   "source": [
    "13. Given a point in the plane by its Cartesian coordinates, determine in which quadrant it is\n",
    "(1st, 2nd, 3rd, 4th), if it lies on an axis, or if it is the origin. Do this for several points in\n",
    "the same execution of the program until the user quits."
   ]
  },
  {
   "cell_type": "code",
   "execution_count": null,
   "id": "34f3c675-8aaa-446f-9d1e-0ade344ff84f",
   "metadata": {},
   "outputs": [
    {
     "name": "stdin",
     "output_type": "stream",
     "text": [
      "Enter the coordinates (x, y):  4,0\n",
      "Enter the coordinates (x, y):  0,9\n",
      "Enter the coordinates (x, y):  8,9\n",
      "Enter the coordinates (x, y):  8,8\n",
      "Enter the coordinates (x, y):  1,8\n",
      "Enter the coordinates (x, y):  1,9\n",
      "Enter the coordinates (x, y):  18,80\n",
      "Enter the coordinates (x, y):  78,09\n",
      "Enter the coordinates (x, y):  0,0\n",
      "Enter the coordinates (x, y):  -0,0\n",
      "Enter the coordinates (x, y):  87,0\n",
      "Enter the coordinates (x, y):  0.9,0.8\n",
      "Enter the coordinates (x, y):  0,0\n",
      "Enter the coordinates (x, y):  00,00\n",
      "Enter the coordinates (x, y):  0,0\n",
      "Enter the coordinates (x, y):  0,0\n",
      "Enter the coordinates (x, y):  0,0\n",
      "Enter the coordinates (x, y):  0,0\n",
      "Enter the coordinates (x, y):  9,0\n",
      "Enter the coordinates (x, y):  9,9\n",
      "Enter the coordinates (x, y):  8,8,\n",
      "Enter the coordinates (x, y):  7,7\n",
      "Enter the coordinates (x, y):  6,6\n",
      "Enter the coordinates (x, y):  r,n\n"
     ]
    }
   ],
   "source": [
    "\n",
    "while True:  \n",
    "    coord = input(\"Enter the coordinates (x, y): \")  \n",
    "    \n",
    "    if coord.lower() == 'quit':  \n",
    "        print(\"Thank you goodbye!\")  \n",
    "        break  \n",
    "        \n",
    "      T\n",
    "        x, y = map(float, coord.split(','))  \n",
    "        if x == 0 and y == 0:  \n",
    "            print(\"The point is at the origin.\")  \n",
    "        elif x == 0:  \n",
    "            print(\"The point lies on the y-axis.\")  \n",
    "        elif y == 0:  \n",
    "            print(\"The point lies on the x-axis.\")  \n",
    "        elif x > 0 and y > 0:  \n",
    "            print(\"The point is in the 1st quadrant.\")  \n",
    "        elif x < 0 and y > 0:  \n",
    "            print(\"The point is in the 2nd quadrant.\")  \n",
    "        elif x < 0 and y < 0:  \n",
    "            print(\"The point is in the 3rd quadrant.\")  \n",
    "        else:  # x > 0 and y < 0  \n",
    "            print(\"The point is in the 4th quadrant.\")  \n",
    "            \n",
    "        except ValueError:  \n",
    "            print(\"Invalid input! Please enter coordinates in the format 'x, y'.\")"
   ]
  },
  {
   "cell_type": "markdown",
   "id": "0b25c768-f64f-4d5b-a43a-302d9aaf2554",
   "metadata": {},
   "source": [
    "14. Ask for an integer number between 0 and 9, denoted x. Once the user has entered a correct\n",
    "number (that is one in the range $[0..10))$ the program asks for a second integer number\n",
    "between 0 and 255, denoted max. The program continues asking for the number until it\n",
    "is correct (that it is in the range $[0..256))$. When this is done, show all multiples of x that\n",
    "are between 0 and max. Then, ask the user whether he/she wants to continue; if in the\n",
    "affirmative, ask for another couple of numbers, otherwise finish"
   ]
  },
  {
   "cell_type": "code",
   "execution_count": null,
   "id": "67b71c59-9163-4e52-8aea-5f33df25834f",
   "metadata": {},
   "outputs": [],
   "source": [
    "while True:\n",
    "    while True:\n",
    "         \n",
    "        x = int(input(\"Enter a number between 0 and 9\"))\n",
    "        \n",
    "        if x <= 9 and x >= 0:\n",
    "            break\n",
    "        else:\n",
    "            print(\"Invalid output\")\n",
    "            \n",
    "    while True:\n",
    "    \n",
    "        max = int(input(\"Enter a number between 0 and 256:\"))\n",
    "        if max <= 255 and max >= 0:\n",
    "            break\n",
    "           \n",
    "        else:\n",
    "            print(\"Invalid\")\n",
    "    \n",
    "    \n",
    "    for i in range(0, max, x):\n",
    "        print(i)\n",
    "print()    \n",
    "\n",
    "answer = input(\"Enter do you want to continue ( yes/no)\").lower()\n",
    "if answer != yes:\n",
    "    print('Thank you !')\n",
    "    break"
   ]
  },
  {
   "cell_type": "code",
   "execution_count": null,
   "id": "7950e022-22f0-4d23-a410-3290d4ca7752",
   "metadata": {},
   "outputs": [],
   "source": []
  }
 ],
 "metadata": {
  "kernelspec": {
   "display_name": "Python 3 (ipykernel)",
   "language": "python",
   "name": "python3"
  },
  "language_info": {
   "codemirror_mode": {
    "name": "ipython",
    "version": 3
   },
   "file_extension": ".py",
   "mimetype": "text/x-python",
   "name": "python",
   "nbconvert_exporter": "python",
   "pygments_lexer": "ipython3",
   "version": "3.12.4"
  }
 },
 "nbformat": 4,
 "nbformat_minor": 5
}
